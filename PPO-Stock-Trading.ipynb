{
  "nbformat": 4,
  "nbformat_minor": 0,
  "metadata": {
    "colab": {
      "name": "eRL_demo_StockTrading.ipynb",
      "provenance": [],
      "collapsed_sections": [],
      "include_colab_link": true
    },
    "kernelspec": {
      "name": "python3",
      "display_name": "Python 3"
    },
    "accelerator": "GPU"
  },
  "cells": [
    {
      "cell_type": "markdown",
      "metadata": {
        "id": "view-in-github",
        "colab_type": "text"
      },
      "source": [
        "<a href=\"https://colab.research.google.com/github/brady-at-claradata/FinRL/blob/master/PPO-Stock-Trading.ipynb\" target=\"_parent\"><img src=\"https://colab.research.google.com/assets/colab-badge.svg\" alt=\"Open In Colab\"/></a>"
      ]
    },
    {
      "cell_type": "markdown",
      "metadata": {
        "id": "c1gUG3OCJ5GS"
      },
      "source": [
        "# **Stock Trading Application in ElegantRL**\n",
        "\n",
        "\n",
        "\n",
        "\n"
      ]
    },
    {
      "cell_type": "code",
      "metadata": {
        "id": "mClO10oFwZfh"
      },
      "source": [
        "import torch"
      ],
      "execution_count": 1,
      "outputs": []
    },
    {
      "cell_type": "code",
      "metadata": {
        "colab": {
          "base_uri": "https://localhost:8080/"
        },
        "id": "u8mp77Exwo0h",
        "outputId": "95c7d309-6262-4560-dd7c-555e54cb9083"
      },
      "source": [
        "torch.cuda.get_device_properties(0)\n"
      ],
      "execution_count": 2,
      "outputs": [
        {
          "output_type": "execute_result",
          "data": {
            "text/plain": [
              "_CudaDeviceProperties(name='Tesla P100-PCIE-16GB', major=6, minor=0, total_memory=16280MB, multi_processor_count=56)"
            ]
          },
          "metadata": {
            "tags": []
          },
          "execution_count": 2
        }
      ]
    },
    {
      "cell_type": "markdown",
      "metadata": {
        "id": "FGXyBBvL0dR2"
      },
      "source": [
        "# **Part 1: Problem Formulation**\n",
        "Formally, we model stock trading as a Markov Decision Process (MDP), and formulate the trading objective as maximization of expected return:\n",
        "\n",
        "\n",
        "\n",
        "*   **State s = [b, p, h]**: a vector that includes the remaining balance b, stock prices p, and stock shares h. p and h are vectors with D dimension, where D denotes the number of stocks. \n",
        "*   **Action a**: a vector of actions over D stocks. The allowed actions on each stock include selling, buying, or holding, which result in decreasing, increasing, or no change of the stock shares in h, respectively.\n",
        "*   **Reward r(s, a, s’)**: The asset value change of taking action a at state s and arriving at new state s’.\n",
        "*   **Policy π(s)**: The trading strategy at state s, which is a probability distribution of actions at state s.\n",
        "*   **Q-function Q(s, a)**: the expected return (reward) of taking action a at state s following policy π.\n",
        "*   **State-transition**: After taking the actions a, the number of shares h is modified, as shown in Fig 3, and the new portfolio is the summation of the balance and the total value of the stocks."
      ]
    },
    {
      "cell_type": "markdown",
      "metadata": {
        "id": "jESlu_WtD_JS"
      },
      "source": [
        "# **Part 2: Stock Trading Environment Design**\n",
        "\n",
        "**State Space and Action Space**\n",
        "\n",
        "\n",
        "*   **State Space**: We use a 181-dimensional vector consists of seven parts of information to represent the state space of multiple stocks trading environment: [b, p, h, M, R, C, X], where b is the balance, p is the stock prices, h is the number of shares, M is the Moving Average Convergence Divergence (MACD), R is the Relative Strength Index (RSI), C is the Commodity Channel Index (CCI), and X is the Average Directional Index (ADX).\n",
        "*   **Action Space**: As a recap, we have three types of actions: selling, buying, and holding for a single stock. We use the negative value for selling, positive value for buying, and zero for holding. In this case, the action space is defined as {-k, …, -1, 0, 1, …, k}, where k is the maximum share to buy or sell in each transaction.\n",
        "\n",
        "\n",
        "**Easy-to-customize Features**\n",
        "\n",
        "\n",
        "*   **initial_capital**: the initial capital that the user wants to invest.\n",
        "*   **tickers**: the stocks that the user wants to trade with.\n",
        "*   **initial_stocks**: the initial amount of each stock and the default could be zero.\n",
        "*   **buy_cost_pct, sell_cost_pct**: the transaction fee of each buying or selling transaction.\n",
        "*   **max_stock**: the user is able to define the maximum number of stocks that are allowed to trade per transaction. Users can also set the maximum percentage of capitals to invest in each stock.\n",
        "*   **tech_indicator_list**: the list of financial indicators that are taken into account, which is used to define a state.\n",
        "*   **start_date, start_eval_date, end_eval_date**: the training and backtesting time intervals. Thee time dates (or timestamps) are used, once the training period is specified, the rest is backtesting.\n"
      ]
    },
    {
      "cell_type": "markdown",
      "metadata": {
        "id": "DbamGVHC3AeW"
      },
      "source": [
        "# **Part 3: Install ElegantRL and related packages**"
      ]
    },
    {
      "cell_type": "code",
      "metadata": {
        "id": "U35bhkUqOqbS",
        "colab": {
          "base_uri": "https://localhost:8080/"
        },
        "outputId": "a12acde8-d33b-49e5-d234-998cc4195c8c"
      },
      "source": [
        "!pip install git+https://github.com/AI4Finance-LLC/ElegantRL.git\n",
        "!pip install yfinance stockstats"
      ],
      "execution_count": 3,
      "outputs": [
        {
          "output_type": "stream",
          "text": [
            "Collecting git+https://github.com/AI4Finance-LLC/ElegantRL.git\n",
            "  Cloning https://github.com/AI4Finance-LLC/ElegantRL.git to /tmp/pip-req-build-wy6f1idg\n",
            "  Running command git clone -q https://github.com/AI4Finance-LLC/ElegantRL.git /tmp/pip-req-build-wy6f1idg\n",
            "Requirement already satisfied: gym in /usr/local/lib/python3.7/dist-packages (from elegantrl==0.3.1) (0.17.3)\n",
            "Requirement already satisfied: matplotlib in /usr/local/lib/python3.7/dist-packages (from elegantrl==0.3.1) (3.2.2)\n",
            "Requirement already satisfied: numpy in /usr/local/lib/python3.7/dist-packages (from elegantrl==0.3.1) (1.19.5)\n",
            "Requirement already satisfied: pybullet in /usr/local/lib/python3.7/dist-packages (from elegantrl==0.3.1) (3.1.7)\n",
            "Requirement already satisfied: torch in /usr/local/lib/python3.7/dist-packages (from elegantrl==0.3.1) (1.9.0+cu102)\n",
            "Requirement already satisfied: opencv-python in /usr/local/lib/python3.7/dist-packages (from elegantrl==0.3.1) (4.1.2.30)\n",
            "Requirement already satisfied: box2d-py in /usr/local/lib/python3.7/dist-packages (from elegantrl==0.3.1) (2.3.8)\n",
            "Requirement already satisfied: cloudpickle<1.7.0,>=1.2.0 in /usr/local/lib/python3.7/dist-packages (from gym->elegantrl==0.3.1) (1.3.0)\n",
            "Requirement already satisfied: pyglet<=1.5.0,>=1.4.0 in /usr/local/lib/python3.7/dist-packages (from gym->elegantrl==0.3.1) (1.5.0)\n",
            "Requirement already satisfied: scipy in /usr/local/lib/python3.7/dist-packages (from gym->elegantrl==0.3.1) (1.4.1)\n",
            "Requirement already satisfied: future in /usr/local/lib/python3.7/dist-packages (from pyglet<=1.5.0,>=1.4.0->gym->elegantrl==0.3.1) (0.16.0)\n",
            "Requirement already satisfied: cycler>=0.10 in /usr/local/lib/python3.7/dist-packages (from matplotlib->elegantrl==0.3.1) (0.10.0)\n",
            "Requirement already satisfied: kiwisolver>=1.0.1 in /usr/local/lib/python3.7/dist-packages (from matplotlib->elegantrl==0.3.1) (1.3.1)\n",
            "Requirement already satisfied: pyparsing!=2.0.4,!=2.1.2,!=2.1.6,>=2.0.1 in /usr/local/lib/python3.7/dist-packages (from matplotlib->elegantrl==0.3.1) (2.4.7)\n",
            "Requirement already satisfied: python-dateutil>=2.1 in /usr/local/lib/python3.7/dist-packages (from matplotlib->elegantrl==0.3.1) (2.8.1)\n",
            "Requirement already satisfied: six in /usr/local/lib/python3.7/dist-packages (from cycler>=0.10->matplotlib->elegantrl==0.3.1) (1.15.0)\n",
            "Requirement already satisfied: typing-extensions in /usr/local/lib/python3.7/dist-packages (from torch->elegantrl==0.3.1) (3.7.4.3)\n",
            "Requirement already satisfied: yfinance in /usr/local/lib/python3.7/dist-packages (0.1.63)\n",
            "Requirement already satisfied: stockstats in /usr/local/lib/python3.7/dist-packages (0.3.2)\n",
            "Requirement already satisfied: requests>=2.20 in /usr/local/lib/python3.7/dist-packages (from yfinance) (2.23.0)\n",
            "Requirement already satisfied: numpy>=1.15 in /usr/local/lib/python3.7/dist-packages (from yfinance) (1.19.5)\n",
            "Requirement already satisfied: lxml>=4.5.1 in /usr/local/lib/python3.7/dist-packages (from yfinance) (4.6.3)\n",
            "Requirement already satisfied: multitasking>=0.0.7 in /usr/local/lib/python3.7/dist-packages (from yfinance) (0.0.9)\n",
            "Requirement already satisfied: pandas>=0.24 in /usr/local/lib/python3.7/dist-packages (from yfinance) (1.1.5)\n",
            "Requirement already satisfied: pytz>=2017.2 in /usr/local/lib/python3.7/dist-packages (from pandas>=0.24->yfinance) (2018.9)\n",
            "Requirement already satisfied: python-dateutil>=2.7.3 in /usr/local/lib/python3.7/dist-packages (from pandas>=0.24->yfinance) (2.8.1)\n",
            "Requirement already satisfied: six>=1.5 in /usr/local/lib/python3.7/dist-packages (from python-dateutil>=2.7.3->pandas>=0.24->yfinance) (1.15.0)\n",
            "Requirement already satisfied: idna<3,>=2.5 in /usr/local/lib/python3.7/dist-packages (from requests>=2.20->yfinance) (2.10)\n",
            "Requirement already satisfied: urllib3!=1.25.0,!=1.25.1,<1.26,>=1.21.1 in /usr/local/lib/python3.7/dist-packages (from requests>=2.20->yfinance) (1.24.3)\n",
            "Requirement already satisfied: certifi>=2017.4.17 in /usr/local/lib/python3.7/dist-packages (from requests>=2.20->yfinance) (2021.5.30)\n",
            "Requirement already satisfied: chardet<4,>=3.0.2 in /usr/local/lib/python3.7/dist-packages (from requests>=2.20->yfinance) (3.0.4)\n",
            "Requirement already satisfied: int-date>=0.1.7 in /usr/local/lib/python3.7/dist-packages (from stockstats) (0.1.8)\n"
          ],
          "name": "stdout"
        }
      ]
    },
    {
      "cell_type": "markdown",
      "metadata": {
        "id": "UVdmpnK_3Zcn"
      },
      "source": [
        "# **Part 4: Import Packages**\n",
        "\n",
        "\n",
        "*   **ElegantRL**\n",
        "*   **yfinance**: yfinance aims to solve this problem by offering a reliable, threaded, and Pythonic way to download historical market data from Yahoo! finance.\n",
        "*   **StockDataFrame**: stockstats inherits and extends pandas.DataFrame to support Stock Statistics and Stock Indicators.\n",
        "\n"
      ]
    },
    {
      "cell_type": "code",
      "metadata": {
        "id": "1VM1xKujoz-6"
      },
      "source": [
        "from elegantrl.run import *\n",
        "from elegantrl.agent import *\n",
        "from elegantrl.envs.FinRL.StockTrading import StockTradingEnv, check_stock_trading_env\n",
        "import yfinance as yf\n",
        "from stockstats import StockDataFrame as Sdf\n",
        "from datetime import datetime, timedelta"
      ],
      "execution_count": 6,
      "outputs": []
    },
    {
      "cell_type": "code",
      "metadata": {
        "colab": {
          "base_uri": "https://localhost:8080/"
        },
        "id": "PRYTC2Id1hk3",
        "outputId": "a9396cab-87c1-4659-9be8-0df1dd36c506"
      },
      "source": [
        "from google.colab import drive\n",
        "drive.mount('/content/drive')"
      ],
      "execution_count": 10,
      "outputs": [
        {
          "output_type": "stream",
          "text": [
            "Mounted at /content/drive\n"
          ],
          "name": "stdout"
        }
      ]
    },
    {
      "cell_type": "markdown",
      "metadata": {
        "id": "3n8zcgcn14uq"
      },
      "source": [
        "# **Part 5: Specify Agent and Environment**\n",
        "\n",
        "*   **args.agent**: firstly chooses one DRL algorithm to use from agent.py. In this application, we prefer to choose DDPG and PPO agent.\n",
        "*   **args.env**: creates the environment, and the user can either customize own environment or preprocess environments from OpenAI Gym and PyBullet Gym from env.py. In this application, we create the self-designed stock trading environment.\n",
        "\n",
        "\n",
        "> Before finishing initialization of **args**, please see Arguments() in run.py for more details about adjustable hyper-parameters.\n",
        "\n",
        "\n"
      ]
    },
    {
      "cell_type": "code",
      "metadata": {
        "id": "E03f6cTeajK4",
        "colab": {
          "base_uri": "https://localhost:8080/"
        },
        "outputId": "4753ab73-08b6-4f71-a076-348bcca0b14d"
      },
      "source": [
        "# Agent\n",
        "args = Arguments(if_on_policy=True)\n",
        "args.agent = AgentPPO() # AgentSAC(), AgentTD3(), AgentDDPG()\n",
        "args.agent.if_use_gae = True\n",
        "args.agent.lambda_entropy = 0.04\n",
        "\n",
        "# Environment\n",
        "tickers = [\n",
        "  'AAPL', 'ADBE', 'ADI', 'ADP', 'ADSK', 'ALGN', 'ALXN', 'AMAT', 'AMD', 'AMGN',\n",
        "  'AMZN', 'ASML', 'ATVI', 'BIIB', 'BKNG', 'BMRN', 'CDNS', 'CERN', 'CHKP', 'CMCSA',\n",
        "  'COST', 'CSCO', 'CSX', 'CTAS', 'CTSH', 'CTXS', 'DLTR', 'EA', 'EBAY', 'FAST',\n",
        "  'FISV', 'GILD', 'HAS', 'HSIC', 'IDXX', 'ILMN', 'INCY', 'INTC', 'INTU', 'ISRG',\n",
        "  'JBHT', 'KLAC', 'LRCX', 'MAR', 'MCHP', 'MDLZ', 'MNST', 'MSFT', 'MU', 'MXIM',\n",
        "  'NLOK', 'NTAP', 'NTES', 'NVDA', 'ORLY', 'PAYX', 'PCAR', 'PEP', 'QCOM', 'REGN',\n",
        "  'ROST', 'SBUX', 'SIRI', 'SNPS', 'SWKS', 'TTWO', 'TXN', 'VRSN', 'VRTX', 'WBA',\n",
        "  'WDC', 'WLTW', 'XEL', 'XLNX']  # finrl.config.NAS_74_TICKER\n",
        "\n",
        "tech_indicator_list = [\n",
        "  'macd', 'boll_ub', 'boll_lb', 'rsi_30', 'cci_30', 'dx_30',\n",
        "  'close_30_sma', 'close_60_sma']  # finrl.config.TECHNICAL_INDICATORS_LIST\n",
        "\n",
        "gamma = 0.99\n",
        "max_stock = 1e2\n",
        "initial_capital = 1e6\n",
        "initial_stocks = np.zeros(len(tickers), dtype=np.float32)\n",
        "buy_cost_pct = 0.\n",
        "sell_cost_pct = 0.\n",
        "start_date = '2008-03-19'\n",
        "start_eval_date = (datetime.now() - timedelta(days=365*2)).strftime(\"%F\")\n",
        "end_eval_date = datetime.now().strftime('%F')\n",
        "\n",
        "args.env = StockTradingEnv('./', gamma, max_stock, initial_capital, buy_cost_pct, \n",
        "                           sell_cost_pct, start_date, start_eval_date, \n",
        "                           end_eval_date, tickers, tech_indicator_list, \n",
        "                           initial_stocks, if_eval=False)\n",
        "args.env_eval = StockTradingEnv('./', gamma, max_stock, initial_capital, buy_cost_pct, \n",
        "                           sell_cost_pct, start_date, start_eval_date, \n",
        "                           end_eval_date, tickers, tech_indicator_list, \n",
        "                           initial_stocks, if_eval=True)\n",
        "\n",
        "args.env.target_reward = 3\n",
        "args.env_eval.target_reward = 3\n",
        "\n",
        "# Hyperparameters\n",
        "args.gamma = gamma\n",
        "args.break_step = int(5e5)\n",
        "args.net_dim = 2 ** 9\n",
        "args.max_step = args.env.max_step\n",
        "args.max_memo = args.max_step * 4\n",
        "args.batch_size = 2 ** 9\n",
        "args.repeat_times = 2 ** 3\n",
        "args.eval_gap = 2 ** 4\n",
        "args.eval_times1 = 2 ** 3\n",
        "args.eval_times2 = 2 ** 5\n",
        "args.if_allow_break = False\n",
        "args.rollout_num = 2 # the number of rollout workers (larger is not always faster)"
      ],
      "execution_count": 9,
      "outputs": [
        {
          "output_type": "stream",
          "text": [
            "| FeatureEngineer: start processing data (2 minutes)\n",
            "| YahooDownloader: start downloading data (1 minute)\n",
            "[*********************100%***********************]  1 of 1 completed\n",
            "[*********************100%***********************]  1 of 1 completed\n",
            "[*********************100%***********************]  1 of 1 completed\n",
            "[*********************100%***********************]  1 of 1 completed\n",
            "[*********************100%***********************]  1 of 1 completed\n",
            "[*********************100%***********************]  1 of 1 completed\n",
            "[*********************100%***********************]  1 of 1 completed\n",
            "[*********************100%***********************]  1 of 1 completed\n",
            "[*********************100%***********************]  1 of 1 completed\n",
            "[*********************100%***********************]  1 of 1 completed\n",
            "[*********************100%***********************]  1 of 1 completed\n",
            "[*********************100%***********************]  1 of 1 completed\n",
            "[*********************100%***********************]  1 of 1 completed\n",
            "[*********************100%***********************]  1 of 1 completed\n",
            "[*********************100%***********************]  1 of 1 completed\n",
            "[*********************100%***********************]  1 of 1 completed\n",
            "[*********************100%***********************]  1 of 1 completed\n",
            "[*********************100%***********************]  1 of 1 completed\n",
            "[*********************100%***********************]  1 of 1 completed\n",
            "[*********************100%***********************]  1 of 1 completed\n",
            "[*********************100%***********************]  1 of 1 completed\n",
            "[*********************100%***********************]  1 of 1 completed\n",
            "[*********************100%***********************]  1 of 1 completed\n",
            "[*********************100%***********************]  1 of 1 completed\n",
            "[*********************100%***********************]  1 of 1 completed\n",
            "[*********************100%***********************]  1 of 1 completed\n",
            "[*********************100%***********************]  1 of 1 completed\n",
            "[*********************100%***********************]  1 of 1 completed\n",
            "[*********************100%***********************]  1 of 1 completed\n",
            "[*********************100%***********************]  1 of 1 completed\n",
            "[*********************100%***********************]  1 of 1 completed\n",
            "[*********************100%***********************]  1 of 1 completed\n",
            "[*********************100%***********************]  1 of 1 completed\n",
            "[*********************100%***********************]  1 of 1 completed\n",
            "[*********************100%***********************]  1 of 1 completed\n",
            "[*********************100%***********************]  1 of 1 completed\n",
            "[*********************100%***********************]  1 of 1 completed\n",
            "[*********************100%***********************]  1 of 1 completed\n",
            "[*********************100%***********************]  1 of 1 completed\n",
            "[*********************100%***********************]  1 of 1 completed\n",
            "[*********************100%***********************]  1 of 1 completed\n",
            "[*********************100%***********************]  1 of 1 completed\n",
            "[*********************100%***********************]  1 of 1 completed\n",
            "[*********************100%***********************]  1 of 1 completed\n",
            "[*********************100%***********************]  1 of 1 completed\n",
            "[*********************100%***********************]  1 of 1 completed\n",
            "[*********************100%***********************]  1 of 1 completed\n",
            "[*********************100%***********************]  1 of 1 completed\n",
            "[*********************100%***********************]  1 of 1 completed\n",
            "[*********************100%***********************]  1 of 1 completed\n",
            "[*********************100%***********************]  1 of 1 completed\n",
            "[*********************100%***********************]  1 of 1 completed\n",
            "[*********************100%***********************]  1 of 1 completed\n",
            "[*********************100%***********************]  1 of 1 completed\n",
            "[*********************100%***********************]  1 of 1 completed\n",
            "[*********************100%***********************]  1 of 1 completed\n",
            "[*********************100%***********************]  1 of 1 completed\n",
            "[*********************100%***********************]  1 of 1 completed\n",
            "[*********************100%***********************]  1 of 1 completed\n",
            "[*********************100%***********************]  1 of 1 completed\n",
            "[*********************100%***********************]  1 of 1 completed\n",
            "[*********************100%***********************]  1 of 1 completed\n",
            "[*********************100%***********************]  1 of 1 completed\n",
            "[*********************100%***********************]  1 of 1 completed\n",
            "[*********************100%***********************]  1 of 1 completed\n",
            "[*********************100%***********************]  1 of 1 completed\n",
            "[*********************100%***********************]  1 of 1 completed\n",
            "[*********************100%***********************]  1 of 1 completed\n",
            "[*********************100%***********************]  1 of 1 completed\n",
            "[*********************100%***********************]  1 of 1 completed\n",
            "[*********************100%***********************]  1 of 1 completed\n",
            "[*********************100%***********************]  1 of 1 completed\n",
            "[*********************100%***********************]  1 of 1 completed\n",
            "[*********************100%***********************]  1 of 1 completed\n",
            "Shape of DataFrame:  (389530, 8)\n",
            "| YahooDownloader: finish downloading data\n",
            "Successfully added technical indicators\n",
            "Successfully added turbulence index\n",
            "| FeatureEngineer: finish processing data\n",
            "| price_ary.shape: (2858, 74), tech_ary.shape: (2858, 592)\n",
            "| price_ary.shape: (363, 74), tech_ary.shape: (363, 592)\n"
          ],
          "name": "stdout"
        }
      ]
    },
    {
      "cell_type": "code",
      "metadata": {
        "id": "KGOPSD6da23k",
        "colab": {
          "base_uri": "https://localhost:8080/"
        },
        "outputId": "3efe67ad-0f53-490b-8fe0-2e6599ea7bbf"
      },
      "source": [
        "train_and_evaluate(args) # the training process will terminate once it reaches the target reward."
      ],
      "execution_count": 14,
      "outputs": [
        {
          "output_type": "stream",
          "text": [
            "| GPU id: 0, cwd: ./AgentPPO/StockTradingEnv-v1_0\n",
            "ID      Step      MaxR |    avgR      stdR       objA      objC |  avgS  stdS\n",
            "0   4.34e+03      1.45 |\n",
            "0   4.34e+03      1.45 |    1.45      0.01      -0.16      1.48 |   362     0\n",
            "0   2.61e+04      1.60 |\n",
            "0   2.61e+04      1.60 |    1.60      0.02      -0.22      0.57 |   362     0\n",
            "0   4.78e+04      2.11 |\n",
            "0   4.78e+04      2.11 |    2.11      0.02      -0.07      0.54 |   362     0\n",
            "0   6.95e+04      2.47 |\n",
            "0   6.95e+04      2.47 |    2.47      0.02      -0.11      0.39 |   362     0\n",
            "0   9.12e+04      2.51 |\n",
            "0   9.12e+04      2.51 |    2.51      0.02      -0.08      0.72 |   362     0\n",
            "0   1.13e+05      2.51 |    2.15      0.06      -0.03      0.40 |   362     0\n",
            "0   1.35e+05      2.69 |\n",
            "0   1.35e+05      2.69 |    2.69      0.07      -0.13      0.70 |   362     0\n",
            "0   1.56e+05      3.03 |\n",
            "0   1.56e+05      3.03 |    3.03      0.04      -0.09      0.40 |   362     0\n",
            "0   1.78e+05      3.44 |\n",
            "0   1.78e+05      3.44 |    3.44      0.06      -0.06      0.55 |   362     0\n",
            "0   2.00e+05      3.44 |    3.33      0.04       0.00      0.34 |   362     0\n",
            "0   2.26e+05      3.44 |    3.31      0.03      -0.11      0.52 |   362     0\n",
            "0   2.48e+05      3.44 |    3.16      0.07      -0.07      0.75 |   362     0\n",
            "0   2.74e+05      3.75 |\n",
            "ID      Step   TargetR |    avgR      stdR   UsedTime  ########\n",
            "0   2.74e+05      3.50 |    3.75      0.03        447  ########\n",
            "0   2.74e+05      3.75 |    3.75      0.03      -0.02      0.51 |   362     0\n",
            "| SavedDir: ./AgentPPO/StockTradingEnv-v1_0\n",
            "| UsedTime: 448\n"
          ],
          "name": "stdout"
        }
      ]
    },
    {
      "cell_type": "code",
      "metadata": {
        "id": "-mtLLad2882G"
      },
      "source": [
        "!cp -R /content/AgentPPO/ /content/drive/MyDrive/trading/"
      ],
      "execution_count": 12,
      "outputs": []
    },
    {
      "cell_type": "markdown",
      "metadata": {
        "id": "JPXOxLSqh5cP"
      },
      "source": [
        "Understanding the above results::\n",
        "*   **Step**: the total training steps.\n",
        "*  **MaxR**: the maximum reward.\n",
        "*   **avgR**: the average of the rewards.\n",
        "*   **stdR**: the standard deviation of the rewards.\n",
        "*   **objA**: the objective function value of Actor Network (Policy Network).\n",
        "*   **objC**: the objective function value (Q-value)  of Critic Network (Value Network)."
      ]
    },
    {
      "cell_type": "markdown",
      "metadata": {
        "id": "v6jvgYPnHMpf"
      },
      "source": [
        "# **Part 7: Backtest and Draw the Graph**"
      ]
    },
    {
      "cell_type": "code",
      "metadata": {
        "colab": {
          "base_uri": "https://localhost:8080/"
        },
        "id": "3jCdezgzQUhh",
        "outputId": "7786afb4-2fea-4d48-92a1-53052d82b2a6"
      },
      "source": [
        "args = Arguments(if_on_policy=True)\n",
        "# args.agent = AgentPPO() # AgentSAC(), AgentTD3(), AgentDDPG()\n",
        "# args.agent.if_use_gae = True\n",
        "# args.agent.lambda_entropy = 0.04\n",
        "\n",
        "# Environment\n",
        "tickers = [\n",
        "  'AAPL', 'ADBE', 'ADI', 'ADP', 'ADSK', 'ALGN', 'ALXN', 'AMAT', 'AMD', 'AMGN',\n",
        "  'AMZN', 'ASML', 'ATVI', 'BIIB', 'BKNG', 'BMRN', 'CDNS', 'CERN', 'CHKP', 'CMCSA',\n",
        "  'COST', 'CSCO', 'CSX', 'CTAS', 'CTSH', 'CTXS', 'DLTR', 'EA', 'EBAY', 'FAST',\n",
        "  'FISV', 'GILD', 'HAS', 'HSIC', 'IDXX', 'ILMN', 'INCY', 'INTC', 'INTU', 'ISRG',\n",
        "  'JBHT', 'KLAC', 'LRCX', 'MAR', 'MCHP', 'MDLZ', 'MNST', 'MSFT', 'MU', 'MXIM',\n",
        "  'NLOK', 'NTAP', 'NTES', 'NVDA', 'ORLY', 'PAYX', 'PCAR', 'PEP', 'QCOM', 'REGN',\n",
        "  'ROST', 'SBUX', 'SIRI', 'SNPS', 'SWKS', 'TTWO', 'TXN', 'VRSN', 'VRTX', 'WBA',\n",
        "  'WDC', 'WLTW', 'XEL', 'XLNX']  # finrl.config.NAS_74_TICKER\n",
        "\n",
        "tech_indicator_list = [\n",
        "  'macd', 'boll_ub', 'boll_lb', 'rsi_30', 'cci_30', 'dx_30',\n",
        "  'close_30_sma', 'close_60_sma']  # finrl.config.TECHNICAL_INDICATORS_LIST\n",
        "\n",
        "gamma = 0.99\n",
        "max_stock = 1e2\n",
        "initial_capital = 1e6 #TODO SET\n",
        "initial_stocks = np.zeros(len(tickers), dtype=np.float32) #TODO SET\n",
        "buy_cost_pct = 0.\n",
        "sell_cost_pct = 0.\n",
        "start_date = '2008-03-19'\n",
        "start_eval_date = (datetime.now() - timedelta(days=365*2)).strftime(\"%F\")\n",
        "end_eval_date = datetime.now().strftime('%F')\n",
        "#get you data!!\n",
        "args.env = StockTradingEnv('./', gamma, max_stock, initial_capital, buy_cost_pct, \n",
        "                           sell_cost_pct, start_date, start_eval_date, \n",
        "                           end_eval_date, tickers, tech_indicator_list, \n",
        "                           initial_stocks, if_eval=True)\n",
        "\n",
        "args.agent = AgentPPO()\n",
        "\n",
        "args.if_remove = False\n",
        "args.cwd = './drive/MyDrive/trading/AgentPPO/StockTradingEnv-v1_0'\n",
        "# args.cwd = './AgentPPO/StockTradingEnv-v1_0'\n",
        "\n",
        "args.init_before_training()\n",
        "\n",
        "# args.env.draw_cumulative_return(args, torch)"
      ],
      "execution_count": 86,
      "outputs": [
        {
          "output_type": "stream",
          "text": [
            "| GPU id: 0, cwd: ./drive/MyDrive/trading/AgentPPO/StockTradingEnv-v1_0\n"
          ],
          "name": "stdout"
        }
      ]
    },
    {
      "cell_type": "code",
      "metadata": {
        "colab": {
          "base_uri": "https://localhost:8080/"
        },
        "id": "3KcNwEMLC5BT",
        "outputId": "94f7df48-824a-49fa-aa26-4d5b660fe1ca"
      },
      "source": [
        "state_dim = args.env.state_dim\n",
        "action_dim = args.env.action_dim\n",
        "\n",
        "agent = args.agent\n",
        "net_dim = args.net_dim\n",
        "cwd = args.cwd\n",
        "\n",
        "\n",
        "agent.init(net_dim, state_dim, action_dim)\n",
        "agent.save_load_model(cwd=cwd, if_save=False)\n",
        "act = agent.act\n",
        "device = agent.device\n",
        "\n",
        "state = np.hstack((args.env.initial_capital * 2 ** -13,\n",
        "  args.env.price_ary[args.env.max_step],\n",
        "  args.env.initial_stocks,\n",
        "  args.env.tech_ary[args.env.max_step],)).astype(np.float32) * 2 ** -5\n",
        "\n",
        "episode_returns = list()  # the cumulative_return / initial_account\n",
        "action = None\n",
        "with torch.no_grad():\n",
        "    s_tensor = torch.as_tensor((state,), device=device)\n",
        "    a_tensor = args.agent.act(s_tensor)\n",
        "    action = a_tensor.cpu().numpy()[0]  # not need detach(), because with torch.no_grad() outside\n",
        "    \n",
        "    # state, reward, done, _ = self.step(action) modified step to actually trade\n",
        "\n",
        "    # total_asset = self.amount + (self.price_ary[self.day] * self.stocks).sum()\n",
        "    # episode_return = total_asset / self.initial_total_asset\n",
        "    # episode_returns.append(episode_return)\n",
        "\n"
      ],
      "execution_count": 91,
      "outputs": [
        {
          "output_type": "stream",
          "text": [
            "Loaded act: ./drive/MyDrive/trading/AgentPPO/StockTradingEnv-v1_0\n"
          ],
          "name": "stdout"
        }
      ]
    },
    {
      "cell_type": "code",
      "metadata": {
        "id": "RiGvrJ1r_nED"
      },
      "source": [
        "!rm -rf /content/drive/MyDrive/trading/AgentPPO/ \n",
        "!cp -R ./AgentPPO /content/drive/MyDrive/trading/"
      ],
      "execution_count": 16,
      "outputs": []
    },
    {
      "cell_type": "code",
      "metadata": {
        "id": "RvaXoU443P4V",
        "outputId": "a577f9c9-a1d0-43f9-f7ab-67405701c2f5",
        "colab": {
          "base_uri": "https://localhost:8080/"
        }
      },
      "source": [
        "args.env.initial_stocks"
      ],
      "execution_count": 95,
      "outputs": [
        {
          "output_type": "execute_result",
          "data": {
            "text/plain": [
              "array([0., 0., 0., 0., 0., 0., 0., 0., 0., 0., 0., 0., 0., 0., 0., 0., 0.,\n",
              "       0., 0., 0., 0., 0., 0., 0., 0., 0., 0., 0., 0., 0., 0., 0., 0., 0.,\n",
              "       0., 0., 0., 0., 0., 0., 0., 0., 0., 0., 0., 0., 0., 0., 0., 0., 0.,\n",
              "       0., 0., 0., 0., 0., 0., 0., 0., 0., 0., 0., 0., 0., 0., 0., 0., 0.,\n",
              "       0., 0., 0., 0., 0., 0.], dtype=float32)"
            ]
          },
          "metadata": {
            "tags": []
          },
          "execution_count": 95
        }
      ]
    },
    {
      "cell_type": "code",
      "metadata": {
        "id": "VwD3piHqvwTG",
        "outputId": "09ce397a-4dfc-414b-c49c-d2b16c2c24fc",
        "colab": {
          "base_uri": "https://localhost:8080/"
        }
      },
      "source": [
        "actions = (action * args.env.max_stock).astype(int)\n",
        "\n",
        "price = args.env.price_ary[args.env.max_step]\n",
        "\n",
        "start_asset = args.env.initial_capital + (args.env.initial_stocks * price).sum()\n",
        "\n",
        "for index in np.where(actions < 0)[0]:  # sell_index:\n",
        "    if price[index] > 0:  # Sell only if current asset is > 0\n",
        "        sell_num_shares = min(args.env.initial_stocks[index], -actions[index])\n",
        "        args.env.initial_stocks[index] -= sell_num_shares\n",
        "        args.env.initial_capital += price[index] * sell_num_shares * (1 - args.env.sell_cost_pct)\n",
        "\n",
        "for index in np.where(actions > 0)[0]:  # buy_index:\n",
        "    if price[index] > 0:  # Buy only if the price is > 0 (no missing data in this particular date)\n",
        "        buy_num_shares = min(args.env.initial_capital // price[index], actions[index])\n",
        "        args.env.initial_stocks[index] += buy_num_shares\n",
        "        args.env.initial_capital -= price[index] * buy_num_shares * (1 + args.env.buy_cost_pct)\n",
        "\n",
        "state = np.hstack((args.env.initial_capital * 2 ** -13,\n",
        "  args.env.price_ary[args.env.max_step],\n",
        "  args.env.initial_stocks,\n",
        "  args.env.tech_ary[args.env.max_step],)).astype(np.float32) * 2 ** -5\n",
        "\n",
        "total_asset = args.env.initial_capital + (args.env.initial_stocks * price).sum()\n",
        "print(start_asset, total_asset)"
      ],
      "execution_count": 102,
      "outputs": [
        {
          "output_type": "stream",
          "text": [
            "1000000.0 1000000.00390625\n"
          ],
          "name": "stdout"
        }
      ]
    },
    {
      "cell_type": "code",
      "metadata": {
        "id": "7svDtLdW2YIE"
      },
      "source": [
        ""
      ],
      "execution_count": null,
      "outputs": []
    }
  ]
}