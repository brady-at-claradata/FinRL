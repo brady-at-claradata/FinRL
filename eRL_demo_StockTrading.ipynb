{
  "nbformat": 4,
  "nbformat_minor": 0,
  "metadata": {
    "colab": {
      "name": "eRL_demo_StockTrading.ipynb",
      "provenance": [],
      "collapsed_sections": [],
      "include_colab_link": true
    },
    "kernelspec": {
      "name": "python3",
      "display_name": "Python 3"
    },
    "accelerator": "GPU"
  },
  "cells": [
    {
      "cell_type": "markdown",
      "metadata": {
        "id": "view-in-github",
        "colab_type": "text"
      },
      "source": [
        "<a href=\"https://colab.research.google.com/github/brady-at-claradata/FinRL/blob/master/eRL_demo_StockTrading.ipynb\" target=\"_parent\"><img src=\"https://colab.research.google.com/assets/colab-badge.svg\" alt=\"Open In Colab\"/></a>"
      ]
    },
    {
      "cell_type": "markdown",
      "metadata": {
        "id": "c1gUG3OCJ5GS"
      },
      "source": [
        "# **Stock Trading Application in ElegantRL**\n",
        "\n",
        "\n",
        "\n",
        "\n"
      ]
    },
    {
      "cell_type": "code",
      "metadata": {
        "id": "mClO10oFwZfh"
      },
      "source": [
        "import torch"
      ],
      "execution_count": 1,
      "outputs": []
    },
    {
      "cell_type": "code",
      "metadata": {
        "id": "u8mp77Exwo0h",
        "outputId": "2447d456-ccdf-4d1e-c481-272cfe15beaa",
        "colab": {
          "base_uri": "https://localhost:8080/"
        }
      },
      "source": [
        "torch.cuda.get_device_properties(0)\n"
      ],
      "execution_count": 2,
      "outputs": [
        {
          "output_type": "execute_result",
          "data": {
            "text/plain": [
              "_CudaDeviceProperties(name='Tesla P100-PCIE-16GB', major=6, minor=0, total_memory=16280MB, multi_processor_count=56)"
            ]
          },
          "metadata": {
            "tags": []
          },
          "execution_count": 2
        }
      ]
    },
    {
      "cell_type": "markdown",
      "metadata": {
        "id": "FGXyBBvL0dR2"
      },
      "source": [
        "# **Part 1: Problem Formulation**\n",
        "Formally, we model stock trading as a Markov Decision Process (MDP), and formulate the trading objective as maximization of expected return:\n",
        "\n",
        "\n",
        "\n",
        "*   **State s = [b, p, h]**: a vector that includes the remaining balance b, stock prices p, and stock shares h. p and h are vectors with D dimension, where D denotes the number of stocks. \n",
        "*   **Action a**: a vector of actions over D stocks. The allowed actions on each stock include selling, buying, or holding, which result in decreasing, increasing, or no change of the stock shares in h, respectively.\n",
        "*   **Reward r(s, a, s’)**: The asset value change of taking action a at state s and arriving at new state s’.\n",
        "*   **Policy π(s)**: The trading strategy at state s, which is a probability distribution of actions at state s.\n",
        "*   **Q-function Q(s, a)**: the expected return (reward) of taking action a at state s following policy π.\n",
        "*   **State-transition**: After taking the actions a, the number of shares h is modified, as shown in Fig 3, and the new portfolio is the summation of the balance and the total value of the stocks."
      ]
    },
    {
      "cell_type": "markdown",
      "metadata": {
        "id": "jESlu_WtD_JS"
      },
      "source": [
        "# **Part 2: Stock Trading Environment Design**\n",
        "\n",
        "**State Space and Action Space**\n",
        "\n",
        "\n",
        "*   **State Space**: We use a 181-dimensional vector consists of seven parts of information to represent the state space of multiple stocks trading environment: [b, p, h, M, R, C, X], where b is the balance, p is the stock prices, h is the number of shares, M is the Moving Average Convergence Divergence (MACD), R is the Relative Strength Index (RSI), C is the Commodity Channel Index (CCI), and X is the Average Directional Index (ADX).\n",
        "*   **Action Space**: As a recap, we have three types of actions: selling, buying, and holding for a single stock. We use the negative value for selling, positive value for buying, and zero for holding. In this case, the action space is defined as {-k, …, -1, 0, 1, …, k}, where k is the maximum share to buy or sell in each transaction.\n",
        "\n",
        "\n",
        "**Easy-to-customize Features**\n",
        "\n",
        "\n",
        "*   **initial_capital**: the initial capital that the user wants to invest.\n",
        "*   **tickers**: the stocks that the user wants to trade with.\n",
        "*   **initial_stocks**: the initial amount of each stock and the default could be zero.\n",
        "*   **buy_cost_pct, sell_cost_pct**: the transaction fee of each buying or selling transaction.\n",
        "*   **max_stock**: the user is able to define the maximum number of stocks that are allowed to trade per transaction. Users can also set the maximum percentage of capitals to invest in each stock.\n",
        "*   **tech_indicator_list**: the list of financial indicators that are taken into account, which is used to define a state.\n",
        "*   **start_date, start_eval_date, end_eval_date**: the training and backtesting time intervals. Thee time dates (or timestamps) are used, once the training period is specified, the rest is backtesting.\n"
      ]
    },
    {
      "cell_type": "markdown",
      "metadata": {
        "id": "DbamGVHC3AeW"
      },
      "source": [
        "# **Part 3: Install ElegantRL and related packages**"
      ]
    },
    {
      "cell_type": "code",
      "metadata": {
        "id": "U35bhkUqOqbS",
        "colab": {
          "base_uri": "https://localhost:8080/"
        },
        "outputId": "725459cb-589d-4d91-8055-aa8515d0db0a"
      },
      "source": [
        "!pip install git+https://github.com/AI4Finance-LLC/ElegantRL.git\n",
        "!pip install yfinance stockstats"
      ],
      "execution_count": 4,
      "outputs": [
        {
          "output_type": "stream",
          "text": [
            "Collecting git+https://github.com/AI4Finance-LLC/ElegantRL.git\n",
            "  Cloning https://github.com/AI4Finance-LLC/ElegantRL.git to /tmp/pip-req-build-g_nu0u5_\n",
            "  Running command git clone -q https://github.com/AI4Finance-LLC/ElegantRL.git /tmp/pip-req-build-g_nu0u5_\n",
            "Requirement already satisfied: gym in /usr/local/lib/python3.7/dist-packages (from elegantrl==0.3.1) (0.17.3)\n",
            "Requirement already satisfied: matplotlib in /usr/local/lib/python3.7/dist-packages (from elegantrl==0.3.1) (3.2.2)\n",
            "Requirement already satisfied: numpy in /usr/local/lib/python3.7/dist-packages (from elegantrl==0.3.1) (1.19.5)\n",
            "Collecting pybullet\n",
            "  Downloading pybullet-3.1.7.tar.gz (79.0 MB)\n",
            "\u001b[K     |████████████████████████████████| 79.0 MB 38 kB/s \n",
            "\u001b[?25hRequirement already satisfied: torch in /usr/local/lib/python3.7/dist-packages (from elegantrl==0.3.1) (1.9.0+cu102)\n",
            "Requirement already satisfied: opencv-python in /usr/local/lib/python3.7/dist-packages (from elegantrl==0.3.1) (4.1.2.30)\n",
            "Collecting box2d-py\n",
            "  Downloading box2d_py-2.3.8-cp37-cp37m-manylinux1_x86_64.whl (448 kB)\n",
            "\u001b[K     |████████████████████████████████| 448 kB 58.8 MB/s \n",
            "\u001b[?25hRequirement already satisfied: pyglet<=1.5.0,>=1.4.0 in /usr/local/lib/python3.7/dist-packages (from gym->elegantrl==0.3.1) (1.5.0)\n",
            "Requirement already satisfied: scipy in /usr/local/lib/python3.7/dist-packages (from gym->elegantrl==0.3.1) (1.4.1)\n",
            "Requirement already satisfied: cloudpickle<1.7.0,>=1.2.0 in /usr/local/lib/python3.7/dist-packages (from gym->elegantrl==0.3.1) (1.3.0)\n",
            "Requirement already satisfied: future in /usr/local/lib/python3.7/dist-packages (from pyglet<=1.5.0,>=1.4.0->gym->elegantrl==0.3.1) (0.16.0)\n",
            "Requirement already satisfied: python-dateutil>=2.1 in /usr/local/lib/python3.7/dist-packages (from matplotlib->elegantrl==0.3.1) (2.8.1)\n",
            "Requirement already satisfied: pyparsing!=2.0.4,!=2.1.2,!=2.1.6,>=2.0.1 in /usr/local/lib/python3.7/dist-packages (from matplotlib->elegantrl==0.3.1) (2.4.7)\n",
            "Requirement already satisfied: kiwisolver>=1.0.1 in /usr/local/lib/python3.7/dist-packages (from matplotlib->elegantrl==0.3.1) (1.3.1)\n",
            "Requirement already satisfied: cycler>=0.10 in /usr/local/lib/python3.7/dist-packages (from matplotlib->elegantrl==0.3.1) (0.10.0)\n",
            "Requirement already satisfied: six in /usr/local/lib/python3.7/dist-packages (from cycler>=0.10->matplotlib->elegantrl==0.3.1) (1.15.0)\n",
            "Requirement already satisfied: typing-extensions in /usr/local/lib/python3.7/dist-packages (from torch->elegantrl==0.3.1) (3.7.4.3)\n",
            "Building wheels for collected packages: elegantrl, pybullet\n",
            "  Building wheel for elegantrl (setup.py) ... \u001b[?25l\u001b[?25hdone\n",
            "  Created wheel for elegantrl: filename=elegantrl-0.3.1-py3-none-any.whl size=65662 sha256=b64f8bedeb60e0af458173849a4b591ae54e5a4b64a66f1c88b5d0613495153b\n",
            "  Stored in directory: /tmp/pip-ephem-wheel-cache-e1ru6dyw/wheels/52/9a/b3/08c8a0b5be22a65da0132538c05e7e961b1253c90d6845e0c6\n",
            "\n",
            "\n",
            "\n",
            "  Building wheel for pybullet (setup.py) ... \u001b[?25l\u001b[?25hdone\n",
            "  Created wheel for pybullet: filename=pybullet-3.1.7-cp37-cp37m-linux_x86_64.whl size=89750864 sha256=bbe5ee1cc38d26e0c23c0449eb084e3cdaa9f629221f8f238fcfd51d41d45a92\n",
            "  Stored in directory: /root/.cache/pip/wheels/70/1c/62/86c8b68885c24123d87c5392d6678aa2b68a1796c8113e1aa6\n",
            "Successfully built elegantrl pybullet\n",
            "Installing collected packages: pybullet, box2d-py, elegantrl\n",
            "Successfully installed box2d-py-2.3.8 elegantrl-0.3.1 pybullet-3.1.7\n",
            "Collecting yfinance\n",
            "  Downloading yfinance-0.1.63.tar.gz (26 kB)\n",
            "Collecting stockstats\n",
            "  Downloading stockstats-0.3.2-py2.py3-none-any.whl (13 kB)\n",
            "Requirement already satisfied: pandas>=0.24 in /usr/local/lib/python3.7/dist-packages (from yfinance) (1.1.5)\n",
            "Requirement already satisfied: numpy>=1.15 in /usr/local/lib/python3.7/dist-packages (from yfinance) (1.19.5)\n",
            "Requirement already satisfied: requests>=2.20 in /usr/local/lib/python3.7/dist-packages (from yfinance) (2.23.0)\n",
            "Requirement already satisfied: multitasking>=0.0.7 in /usr/local/lib/python3.7/dist-packages (from yfinance) (0.0.9)\n",
            "Collecting lxml>=4.5.1\n",
            "  Downloading lxml-4.6.3-cp37-cp37m-manylinux2014_x86_64.whl (6.3 MB)\n",
            "\u001b[K     |████████████████████████████████| 6.3 MB 11.6 MB/s \n",
            "\u001b[?25hRequirement already satisfied: pytz>=2017.2 in /usr/local/lib/python3.7/dist-packages (from pandas>=0.24->yfinance) (2018.9)\n",
            "Requirement already satisfied: python-dateutil>=2.7.3 in /usr/local/lib/python3.7/dist-packages (from pandas>=0.24->yfinance) (2.8.1)\n",
            "Requirement already satisfied: six>=1.5 in /usr/local/lib/python3.7/dist-packages (from python-dateutil>=2.7.3->pandas>=0.24->yfinance) (1.15.0)\n",
            "Requirement already satisfied: urllib3!=1.25.0,!=1.25.1,<1.26,>=1.21.1 in /usr/local/lib/python3.7/dist-packages (from requests>=2.20->yfinance) (1.24.3)\n",
            "Requirement already satisfied: chardet<4,>=3.0.2 in /usr/local/lib/python3.7/dist-packages (from requests>=2.20->yfinance) (3.0.4)\n",
            "Requirement already satisfied: idna<3,>=2.5 in /usr/local/lib/python3.7/dist-packages (from requests>=2.20->yfinance) (2.10)\n",
            "Requirement already satisfied: certifi>=2017.4.17 in /usr/local/lib/python3.7/dist-packages (from requests>=2.20->yfinance) (2021.5.30)\n",
            "Collecting int-date>=0.1.7\n",
            "  Downloading int_date-0.1.8-py2.py3-none-any.whl (5.0 kB)\n",
            "Building wheels for collected packages: yfinance\n",
            "  Building wheel for yfinance (setup.py) ... \u001b[?25l\u001b[?25hdone\n",
            "  Created wheel for yfinance: filename=yfinance-0.1.63-py2.py3-none-any.whl size=23919 sha256=bc9c6afdd378db873101f21b7229dbf9567878ec001f68e93e994e7a33a13e9c\n",
            "  Stored in directory: /root/.cache/pip/wheels/fe/87/8b/7ec24486e001d3926537f5f7801f57a74d181be25b11157983\n",
            "Successfully built yfinance\n",
            "Installing collected packages: lxml, int-date, yfinance, stockstats\n",
            "  Attempting uninstall: lxml\n",
            "    Found existing installation: lxml 4.2.6\n",
            "    Uninstalling lxml-4.2.6:\n",
            "      Successfully uninstalled lxml-4.2.6\n",
            "Successfully installed int-date-0.1.8 lxml-4.6.3 stockstats-0.3.2 yfinance-0.1.63\n"
          ],
          "name": "stdout"
        }
      ]
    },
    {
      "cell_type": "markdown",
      "metadata": {
        "id": "UVdmpnK_3Zcn"
      },
      "source": [
        "# **Part 4: Import Packages**\n",
        "\n",
        "\n",
        "*   **ElegantRL**\n",
        "*   **yfinance**: yfinance aims to solve this problem by offering a reliable, threaded, and Pythonic way to download historical market data from Yahoo! finance.\n",
        "*   **StockDataFrame**: stockstats inherits and extends pandas.DataFrame to support Stock Statistics and Stock Indicators.\n",
        "\n"
      ]
    },
    {
      "cell_type": "code",
      "metadata": {
        "id": "1VM1xKujoz-6"
      },
      "source": [
        "from elegantrl.run import *\n",
        "from elegantrl.agent import *\n",
        "from elegantrl.envs.FinRL.StockTrading import StockTradingEnv, check_stock_trading_env\n",
        "import yfinance as yf\n",
        "from stockstats import StockDataFrame as Sdf"
      ],
      "execution_count": 106,
      "outputs": []
    },
    {
      "cell_type": "markdown",
      "metadata": {
        "id": "3n8zcgcn14uq"
      },
      "source": [
        "# **Part 5: Specify Agent and Environment**\n",
        "\n",
        "*   **args.agent**: firstly chooses one DRL algorithm to use from agent.py. In this application, we prefer to choose DDPG and PPO agent.\n",
        "*   **args.env**: creates the environment, and the user can either customize own environment or preprocess environments from OpenAI Gym and PyBullet Gym from env.py. In this application, we create the self-designed stock trading environment.\n",
        "\n",
        "\n",
        "> Before finishing initialization of **args**, please see Arguments() in run.py for more details about adjustable hyper-parameters.\n",
        "\n",
        "\n"
      ]
    },
    {
      "cell_type": "code",
      "metadata": {
        "id": "E03f6cTeajK4"
      },
      "source": [
        "# Agent\n",
        "args = Arguments(if_on_policy=True)\n",
        "args.agent = AgentPPO() # AgentSAC(), AgentTD3(), AgentDDPG()\n",
        "args.agent.if_use_gae = True\n",
        "args.agent.lambda_entropy = 0.04\n",
        "\n",
        "# Environment\n",
        "tickers = [\n",
        "  'AAPL', 'ADBE', 'ADI', 'ADP', 'ADSK', 'ALGN', 'ALXN', 'AMAT', 'AMD', 'AMGN',\n",
        "  'AMZN', 'ASML', 'ATVI', 'BIIB', 'BKNG', 'BMRN', 'CDNS', 'CERN', 'CHKP', 'CMCSA',\n",
        "  'COST', 'CSCO', 'CSX', 'CTAS', 'CTSH', 'CTXS', 'DLTR', 'EA', 'EBAY', 'FAST',\n",
        "  'FISV', 'GILD', 'HAS', 'HSIC', 'IDXX', 'ILMN', 'INCY', 'INTC', 'INTU', 'ISRG',\n",
        "  'JBHT', 'KLAC', 'LRCX', 'MAR', 'MCHP', 'MDLZ', 'MNST', 'MSFT', 'MU', 'MXIM',\n",
        "  'NLOK', 'NTAP', 'NTES', 'NVDA', 'ORLY', 'PAYX', 'PCAR', 'PEP', 'QCOM', 'REGN',\n",
        "  'ROST', 'SBUX', 'SIRI', 'SNPS', 'SWKS', 'TTWO', 'TXN', 'VRSN', 'VRTX', 'WBA',\n",
        "  'WDC', 'WLTW', 'XEL', 'XLNX']  # finrl.config.NAS_74_TICKER\n",
        "\n",
        "tech_indicator_list = [\n",
        "  'macd', 'boll_ub', 'boll_lb', 'rsi_30', 'cci_30', 'dx_30',\n",
        "  'close_30_sma', 'close_60_sma']  # finrl.config.TECHNICAL_INDICATORS_LIST\n",
        "\n",
        "gamma = 0.99\n",
        "max_stock = 1e2\n",
        "initial_capital = 1e6\n",
        "initial_stocks = np.zeros(len(tickers), dtype=np.float32)\n",
        "buy_cost_pct = 0.\n",
        "sell_cost_pct = 0.\n",
        "start_date = '2008-03-19'\n",
        "start_eval_date = '2021-01-01'\n",
        "end_eval_date = '2021-07-23'\n",
        "\n",
        "args.env = StockTradingEnv('./', gamma, max_stock, initial_capital, buy_cost_pct, \n",
        "                           sell_cost_pct, start_date, start_eval_date, \n",
        "                           end_eval_date, tickers, tech_indicator_list, \n",
        "                           initial_stocks, if_eval=False)\n",
        "args.env_eval = StockTradingEnv('./', gamma, max_stock, initial_capital, buy_cost_pct, \n",
        "                           sell_cost_pct, start_date, start_eval_date, \n",
        "                           end_eval_date, tickers, tech_indicator_list, \n",
        "                           initial_stocks, if_eval=True)\n",
        "\n",
        "args.env.target_reward = 3\n",
        "args.env_eval.target_reward = 3\n",
        "\n",
        "# Hyperparameters\n",
        "args.gamma = gamma\n",
        "args.break_step = int(2e5)\n",
        "args.net_dim = 2 ** 9\n",
        "args.max_step = args.env.max_step\n",
        "args.max_memo = args.max_step * 4\n",
        "args.batch_size = 2 ** 9\n",
        "args.repeat_times = 2 ** 3\n",
        "args.eval_gap = 2 ** 4\n",
        "args.eval_times1 = 2 ** 3\n",
        "args.eval_times2 = 2 ** 5\n",
        "args.if_allow_break = False\n",
        "args.rollout_num = 2 # the number of rollout workers (larger is not always faster)"
      ],
      "execution_count": 109,
      "outputs": []
    },
    {
      "cell_type": "code",
      "metadata": {
        "id": "KGOPSD6da23k",
        "colab": {
          "base_uri": "https://localhost:8080/",
          "height": 442
        },
        "outputId": "3b3924f8-afd8-4455-d900-e7ad4c9589bd"
      },
      "source": [
        "train_and_evaluate(args) # the training process will terminate once it reaches the target reward."
      ],
      "execution_count": 110,
      "outputs": [
        {
          "output_type": "stream",
          "text": [
            "| GPU id: 0, cwd: ./AgentPPO/StockTradingEnv-v1_0\n",
            "| Remove history\n",
            "ID      Step      MaxR |    avgR      stdR       objA      objC |  avgS  stdS\n",
            "0   5.43e+03      1.68 |\n",
            "0   5.43e+03      1.68 |    1.68      0.02       0.11     13.95 |   504     0\n"
          ],
          "name": "stdout"
        },
        {
          "output_type": "error",
          "ename": "KeyboardInterrupt",
          "evalue": "ignored",
          "traceback": [
            "\u001b[0;31m---------------------------------------------------------------------------\u001b[0m",
            "\u001b[0;31mKeyboardInterrupt\u001b[0m                         Traceback (most recent call last)",
            "\u001b[0;32m<ipython-input-110-28f454bd012d>\u001b[0m in \u001b[0;36m<module>\u001b[0;34m()\u001b[0m\n\u001b[0;32m----> 1\u001b[0;31m \u001b[0mtrain_and_evaluate\u001b[0m\u001b[0;34m(\u001b[0m\u001b[0margs\u001b[0m\u001b[0;34m)\u001b[0m \u001b[0;31m# the training process will terminate once it reaches the target reward.\u001b[0m\u001b[0;34m\u001b[0m\u001b[0;34m\u001b[0m\u001b[0m\n\u001b[0m",
            "\u001b[0;32m/usr/local/lib/python3.7/dist-packages/elegantrl/run.py\u001b[0m in \u001b[0;36mtrain_and_evaluate\u001b[0;34m(***failed resolving arguments***)\u001b[0m\n\u001b[1;32m    166\u001b[0m         \u001b[0mobj_a\u001b[0m\u001b[0;34m,\u001b[0m \u001b[0mobj_c\u001b[0m \u001b[0;34m=\u001b[0m \u001b[0magent\u001b[0m\u001b[0;34m.\u001b[0m\u001b[0mupdate_net\u001b[0m\u001b[0;34m(\u001b[0m\u001b[0mbuffer\u001b[0m\u001b[0;34m,\u001b[0m \u001b[0mtarget_step\u001b[0m\u001b[0;34m,\u001b[0m \u001b[0mbatch_size\u001b[0m\u001b[0;34m,\u001b[0m \u001b[0mrepeat_times\u001b[0m\u001b[0;34m)\u001b[0m\u001b[0;34m\u001b[0m\u001b[0;34m\u001b[0m\u001b[0m\n\u001b[1;32m    167\u001b[0m \u001b[0;34m\u001b[0m\u001b[0m\n\u001b[0;32m--> 168\u001b[0;31m         \u001b[0mif_reach_goal\u001b[0m \u001b[0;34m=\u001b[0m \u001b[0mevaluator\u001b[0m\u001b[0;34m.\u001b[0m\u001b[0mevaluate_save\u001b[0m\u001b[0;34m(\u001b[0m\u001b[0magent\u001b[0m\u001b[0;34m.\u001b[0m\u001b[0mact\u001b[0m\u001b[0;34m,\u001b[0m \u001b[0msteps\u001b[0m\u001b[0;34m,\u001b[0m \u001b[0mobj_a\u001b[0m\u001b[0;34m,\u001b[0m \u001b[0mobj_c\u001b[0m\u001b[0;34m)\u001b[0m\u001b[0;34m\u001b[0m\u001b[0;34m\u001b[0m\u001b[0m\n\u001b[0m\u001b[1;32m    169\u001b[0m         \u001b[0mevaluator\u001b[0m\u001b[0;34m.\u001b[0m\u001b[0mdraw_plot\u001b[0m\u001b[0;34m(\u001b[0m\u001b[0;34m)\u001b[0m\u001b[0;34m\u001b[0m\u001b[0;34m\u001b[0m\u001b[0m\n\u001b[1;32m    170\u001b[0m \u001b[0;34m\u001b[0m\u001b[0m\n",
            "\u001b[0;32m/usr/local/lib/python3.7/dist-packages/elegantrl/run.py\u001b[0m in \u001b[0;36mevaluate_save\u001b[0;34m(self, act, steps, obj_a, obj_c)\u001b[0m\n\u001b[1;32m    463\u001b[0m             \u001b[0;32mif\u001b[0m \u001b[0mr_avg\u001b[0m \u001b[0;34m>\u001b[0m \u001b[0mself\u001b[0m\u001b[0;34m.\u001b[0m\u001b[0mr_max\u001b[0m\u001b[0;34m:\u001b[0m  \u001b[0;31m# evaluate actor twice to save CPU Usage and keep precision\u001b[0m\u001b[0;34m\u001b[0m\u001b[0;34m\u001b[0m\u001b[0m\n\u001b[1;32m    464\u001b[0m                 rewards_steps_list += [get_episode_return(self.env, act, self.device)\n\u001b[0;32m--> 465\u001b[0;31m                                        for _ in range(self.eval_times2 - self.eval_times1)]\n\u001b[0m\u001b[1;32m    466\u001b[0m                 \u001b[0mr_avg\u001b[0m\u001b[0;34m,\u001b[0m \u001b[0mr_std\u001b[0m\u001b[0;34m,\u001b[0m \u001b[0ms_avg\u001b[0m\u001b[0;34m,\u001b[0m \u001b[0ms_std\u001b[0m \u001b[0;34m=\u001b[0m \u001b[0mself\u001b[0m\u001b[0;34m.\u001b[0m\u001b[0mget_r_avg_std_s_avg_std\u001b[0m\u001b[0;34m(\u001b[0m\u001b[0mrewards_steps_list\u001b[0m\u001b[0;34m)\u001b[0m\u001b[0;34m\u001b[0m\u001b[0;34m\u001b[0m\u001b[0m\n\u001b[1;32m    467\u001b[0m             \u001b[0;32mif\u001b[0m \u001b[0mr_avg\u001b[0m \u001b[0;34m>\u001b[0m \u001b[0mself\u001b[0m\u001b[0;34m.\u001b[0m\u001b[0mr_max\u001b[0m\u001b[0;34m:\u001b[0m  \u001b[0;31m# save checkpoint with highest episode return\u001b[0m\u001b[0;34m\u001b[0m\u001b[0;34m\u001b[0m\u001b[0m\n",
            "\u001b[0;32m/usr/local/lib/python3.7/dist-packages/elegantrl/run.py\u001b[0m in \u001b[0;36m<listcomp>\u001b[0;34m(.0)\u001b[0m\n\u001b[1;32m    463\u001b[0m             \u001b[0;32mif\u001b[0m \u001b[0mr_avg\u001b[0m \u001b[0;34m>\u001b[0m \u001b[0mself\u001b[0m\u001b[0;34m.\u001b[0m\u001b[0mr_max\u001b[0m\u001b[0;34m:\u001b[0m  \u001b[0;31m# evaluate actor twice to save CPU Usage and keep precision\u001b[0m\u001b[0;34m\u001b[0m\u001b[0;34m\u001b[0m\u001b[0m\n\u001b[1;32m    464\u001b[0m                 rewards_steps_list += [get_episode_return(self.env, act, self.device)\n\u001b[0;32m--> 465\u001b[0;31m                                        for _ in range(self.eval_times2 - self.eval_times1)]\n\u001b[0m\u001b[1;32m    466\u001b[0m                 \u001b[0mr_avg\u001b[0m\u001b[0;34m,\u001b[0m \u001b[0mr_std\u001b[0m\u001b[0;34m,\u001b[0m \u001b[0ms_avg\u001b[0m\u001b[0;34m,\u001b[0m \u001b[0ms_std\u001b[0m \u001b[0;34m=\u001b[0m \u001b[0mself\u001b[0m\u001b[0;34m.\u001b[0m\u001b[0mget_r_avg_std_s_avg_std\u001b[0m\u001b[0;34m(\u001b[0m\u001b[0mrewards_steps_list\u001b[0m\u001b[0;34m)\u001b[0m\u001b[0;34m\u001b[0m\u001b[0;34m\u001b[0m\u001b[0m\n\u001b[1;32m    467\u001b[0m             \u001b[0;32mif\u001b[0m \u001b[0mr_avg\u001b[0m \u001b[0;34m>\u001b[0m \u001b[0mself\u001b[0m\u001b[0;34m.\u001b[0m\u001b[0mr_max\u001b[0m\u001b[0;34m:\u001b[0m  \u001b[0;31m# save checkpoint with highest episode return\u001b[0m\u001b[0;34m\u001b[0m\u001b[0;34m\u001b[0m\u001b[0m\n",
            "\u001b[0;32m/usr/local/lib/python3.7/dist-packages/elegantrl/run.py\u001b[0m in \u001b[0;36mget_episode_return\u001b[0;34m(env, act, device)\u001b[0m\n\u001b[1;32m    522\u001b[0m     \u001b[0;32mfor\u001b[0m \u001b[0mepisode_step\u001b[0m \u001b[0;32min\u001b[0m \u001b[0mrange\u001b[0m\u001b[0;34m(\u001b[0m\u001b[0mmax_step\u001b[0m\u001b[0;34m)\u001b[0m\u001b[0;34m:\u001b[0m\u001b[0;34m\u001b[0m\u001b[0;34m\u001b[0m\u001b[0m\n\u001b[1;32m    523\u001b[0m         \u001b[0ms_tensor\u001b[0m \u001b[0;34m=\u001b[0m \u001b[0mtorch\u001b[0m\u001b[0;34m.\u001b[0m\u001b[0mas_tensor\u001b[0m\u001b[0;34m(\u001b[0m\u001b[0;34m(\u001b[0m\u001b[0mstate\u001b[0m\u001b[0;34m,\u001b[0m\u001b[0;34m)\u001b[0m\u001b[0;34m,\u001b[0m \u001b[0mdevice\u001b[0m\u001b[0;34m=\u001b[0m\u001b[0mdevice\u001b[0m\u001b[0;34m)\u001b[0m\u001b[0;34m\u001b[0m\u001b[0;34m\u001b[0m\u001b[0m\n\u001b[0;32m--> 524\u001b[0;31m         \u001b[0ma_tensor\u001b[0m \u001b[0;34m=\u001b[0m \u001b[0mact\u001b[0m\u001b[0;34m(\u001b[0m\u001b[0ms_tensor\u001b[0m\u001b[0;34m)\u001b[0m\u001b[0;34m\u001b[0m\u001b[0;34m\u001b[0m\u001b[0m\n\u001b[0m\u001b[1;32m    525\u001b[0m         \u001b[0;32mif\u001b[0m \u001b[0mif_discrete\u001b[0m\u001b[0;34m:\u001b[0m\u001b[0;34m\u001b[0m\u001b[0;34m\u001b[0m\u001b[0m\n\u001b[1;32m    526\u001b[0m             \u001b[0ma_tensor\u001b[0m \u001b[0;34m=\u001b[0m \u001b[0ma_tensor\u001b[0m\u001b[0;34m.\u001b[0m\u001b[0margmax\u001b[0m\u001b[0;34m(\u001b[0m\u001b[0mdim\u001b[0m\u001b[0;34m=\u001b[0m\u001b[0;36m1\u001b[0m\u001b[0;34m)\u001b[0m\u001b[0;34m\u001b[0m\u001b[0;34m\u001b[0m\u001b[0m\n",
            "\u001b[0;32m/usr/local/lib/python3.7/dist-packages/torch/nn/modules/module.py\u001b[0m in \u001b[0;36m_call_impl\u001b[0;34m(self, *input, **kwargs)\u001b[0m\n\u001b[1;32m   1049\u001b[0m         if not (self._backward_hooks or self._forward_hooks or self._forward_pre_hooks or _global_backward_hooks\n\u001b[1;32m   1050\u001b[0m                 or _global_forward_hooks or _global_forward_pre_hooks):\n\u001b[0;32m-> 1051\u001b[0;31m             \u001b[0;32mreturn\u001b[0m \u001b[0mforward_call\u001b[0m\u001b[0;34m(\u001b[0m\u001b[0;34m*\u001b[0m\u001b[0minput\u001b[0m\u001b[0;34m,\u001b[0m \u001b[0;34m**\u001b[0m\u001b[0mkwargs\u001b[0m\u001b[0;34m)\u001b[0m\u001b[0;34m\u001b[0m\u001b[0;34m\u001b[0m\u001b[0m\n\u001b[0m\u001b[1;32m   1052\u001b[0m         \u001b[0;31m# Do not call functions when jit is used\u001b[0m\u001b[0;34m\u001b[0m\u001b[0;34m\u001b[0m\u001b[0;34m\u001b[0m\u001b[0m\n\u001b[1;32m   1053\u001b[0m         \u001b[0mfull_backward_hooks\u001b[0m\u001b[0;34m,\u001b[0m \u001b[0mnon_full_backward_hooks\u001b[0m \u001b[0;34m=\u001b[0m \u001b[0;34m[\u001b[0m\u001b[0;34m]\u001b[0m\u001b[0;34m,\u001b[0m \u001b[0;34m[\u001b[0m\u001b[0;34m]\u001b[0m\u001b[0;34m\u001b[0m\u001b[0;34m\u001b[0m\u001b[0m\n",
            "\u001b[0;32m/usr/local/lib/python3.7/dist-packages/elegantrl/net.py\u001b[0m in \u001b[0;36mforward\u001b[0;34m(self, state)\u001b[0m\n\u001b[1;32m    149\u001b[0m \u001b[0;34m\u001b[0m\u001b[0m\n\u001b[1;32m    150\u001b[0m     \u001b[0;32mdef\u001b[0m \u001b[0mforward\u001b[0m\u001b[0;34m(\u001b[0m\u001b[0mself\u001b[0m\u001b[0;34m,\u001b[0m \u001b[0mstate\u001b[0m\u001b[0;34m)\u001b[0m\u001b[0;34m:\u001b[0m\u001b[0;34m\u001b[0m\u001b[0;34m\u001b[0m\u001b[0m\n\u001b[0;32m--> 151\u001b[0;31m         \u001b[0;32mreturn\u001b[0m \u001b[0mself\u001b[0m\u001b[0;34m.\u001b[0m\u001b[0mnet\u001b[0m\u001b[0;34m(\u001b[0m\u001b[0mstate\u001b[0m\u001b[0;34m)\u001b[0m\u001b[0;34m.\u001b[0m\u001b[0mtanh\u001b[0m\u001b[0;34m(\u001b[0m\u001b[0;34m)\u001b[0m  \u001b[0;31m# action\u001b[0m\u001b[0;34m\u001b[0m\u001b[0;34m\u001b[0m\u001b[0m\n\u001b[0m\u001b[1;32m    152\u001b[0m \u001b[0;34m\u001b[0m\u001b[0m\n\u001b[1;32m    153\u001b[0m     \u001b[0;32mdef\u001b[0m \u001b[0mget_action_noise\u001b[0m\u001b[0;34m(\u001b[0m\u001b[0mself\u001b[0m\u001b[0;34m,\u001b[0m \u001b[0mstate\u001b[0m\u001b[0;34m)\u001b[0m\u001b[0;34m:\u001b[0m\u001b[0;34m\u001b[0m\u001b[0;34m\u001b[0m\u001b[0m\n",
            "\u001b[0;32m/usr/local/lib/python3.7/dist-packages/torch/nn/modules/module.py\u001b[0m in \u001b[0;36m_call_impl\u001b[0;34m(self, *input, **kwargs)\u001b[0m\n\u001b[1;32m   1049\u001b[0m         if not (self._backward_hooks or self._forward_hooks or self._forward_pre_hooks or _global_backward_hooks\n\u001b[1;32m   1050\u001b[0m                 or _global_forward_hooks or _global_forward_pre_hooks):\n\u001b[0;32m-> 1051\u001b[0;31m             \u001b[0;32mreturn\u001b[0m \u001b[0mforward_call\u001b[0m\u001b[0;34m(\u001b[0m\u001b[0;34m*\u001b[0m\u001b[0minput\u001b[0m\u001b[0;34m,\u001b[0m \u001b[0;34m**\u001b[0m\u001b[0mkwargs\u001b[0m\u001b[0;34m)\u001b[0m\u001b[0;34m\u001b[0m\u001b[0;34m\u001b[0m\u001b[0m\n\u001b[0m\u001b[1;32m   1052\u001b[0m         \u001b[0;31m# Do not call functions when jit is used\u001b[0m\u001b[0;34m\u001b[0m\u001b[0;34m\u001b[0m\u001b[0;34m\u001b[0m\u001b[0m\n\u001b[1;32m   1053\u001b[0m         \u001b[0mfull_backward_hooks\u001b[0m\u001b[0;34m,\u001b[0m \u001b[0mnon_full_backward_hooks\u001b[0m \u001b[0;34m=\u001b[0m \u001b[0;34m[\u001b[0m\u001b[0;34m]\u001b[0m\u001b[0;34m,\u001b[0m \u001b[0;34m[\u001b[0m\u001b[0;34m]\u001b[0m\u001b[0;34m\u001b[0m\u001b[0;34m\u001b[0m\u001b[0m\n",
            "\u001b[0;32m/usr/local/lib/python3.7/dist-packages/torch/nn/modules/container.py\u001b[0m in \u001b[0;36mforward\u001b[0;34m(self, input)\u001b[0m\n\u001b[1;32m    137\u001b[0m     \u001b[0;32mdef\u001b[0m \u001b[0mforward\u001b[0m\u001b[0;34m(\u001b[0m\u001b[0mself\u001b[0m\u001b[0;34m,\u001b[0m \u001b[0minput\u001b[0m\u001b[0;34m)\u001b[0m\u001b[0;34m:\u001b[0m\u001b[0;34m\u001b[0m\u001b[0;34m\u001b[0m\u001b[0m\n\u001b[1;32m    138\u001b[0m         \u001b[0;32mfor\u001b[0m \u001b[0mmodule\u001b[0m \u001b[0;32min\u001b[0m \u001b[0mself\u001b[0m\u001b[0;34m:\u001b[0m\u001b[0;34m\u001b[0m\u001b[0;34m\u001b[0m\u001b[0m\n\u001b[0;32m--> 139\u001b[0;31m             \u001b[0minput\u001b[0m \u001b[0;34m=\u001b[0m \u001b[0mmodule\u001b[0m\u001b[0;34m(\u001b[0m\u001b[0minput\u001b[0m\u001b[0;34m)\u001b[0m\u001b[0;34m\u001b[0m\u001b[0;34m\u001b[0m\u001b[0m\n\u001b[0m\u001b[1;32m    140\u001b[0m         \u001b[0;32mreturn\u001b[0m \u001b[0minput\u001b[0m\u001b[0;34m\u001b[0m\u001b[0;34m\u001b[0m\u001b[0m\n\u001b[1;32m    141\u001b[0m \u001b[0;34m\u001b[0m\u001b[0m\n",
            "\u001b[0;32m/usr/local/lib/python3.7/dist-packages/torch/nn/modules/module.py\u001b[0m in \u001b[0;36m_call_impl\u001b[0;34m(self, *input, **kwargs)\u001b[0m\n\u001b[1;32m   1049\u001b[0m         if not (self._backward_hooks or self._forward_hooks or self._forward_pre_hooks or _global_backward_hooks\n\u001b[1;32m   1050\u001b[0m                 or _global_forward_hooks or _global_forward_pre_hooks):\n\u001b[0;32m-> 1051\u001b[0;31m             \u001b[0;32mreturn\u001b[0m \u001b[0mforward_call\u001b[0m\u001b[0;34m(\u001b[0m\u001b[0;34m*\u001b[0m\u001b[0minput\u001b[0m\u001b[0;34m,\u001b[0m \u001b[0;34m**\u001b[0m\u001b[0mkwargs\u001b[0m\u001b[0;34m)\u001b[0m\u001b[0;34m\u001b[0m\u001b[0;34m\u001b[0m\u001b[0m\n\u001b[0m\u001b[1;32m   1052\u001b[0m         \u001b[0;31m# Do not call functions when jit is used\u001b[0m\u001b[0;34m\u001b[0m\u001b[0;34m\u001b[0m\u001b[0;34m\u001b[0m\u001b[0m\n\u001b[1;32m   1053\u001b[0m         \u001b[0mfull_backward_hooks\u001b[0m\u001b[0;34m,\u001b[0m \u001b[0mnon_full_backward_hooks\u001b[0m \u001b[0;34m=\u001b[0m \u001b[0;34m[\u001b[0m\u001b[0;34m]\u001b[0m\u001b[0;34m,\u001b[0m \u001b[0;34m[\u001b[0m\u001b[0;34m]\u001b[0m\u001b[0;34m\u001b[0m\u001b[0;34m\u001b[0m\u001b[0m\n",
            "\u001b[0;32m/usr/local/lib/python3.7/dist-packages/torch/nn/modules/linear.py\u001b[0m in \u001b[0;36mforward\u001b[0;34m(self, input)\u001b[0m\n\u001b[1;32m     94\u001b[0m \u001b[0;34m\u001b[0m\u001b[0m\n\u001b[1;32m     95\u001b[0m     \u001b[0;32mdef\u001b[0m \u001b[0mforward\u001b[0m\u001b[0;34m(\u001b[0m\u001b[0mself\u001b[0m\u001b[0;34m,\u001b[0m \u001b[0minput\u001b[0m\u001b[0;34m:\u001b[0m \u001b[0mTensor\u001b[0m\u001b[0;34m)\u001b[0m \u001b[0;34m->\u001b[0m \u001b[0mTensor\u001b[0m\u001b[0;34m:\u001b[0m\u001b[0;34m\u001b[0m\u001b[0;34m\u001b[0m\u001b[0m\n\u001b[0;32m---> 96\u001b[0;31m         \u001b[0;32mreturn\u001b[0m \u001b[0mF\u001b[0m\u001b[0;34m.\u001b[0m\u001b[0mlinear\u001b[0m\u001b[0;34m(\u001b[0m\u001b[0minput\u001b[0m\u001b[0;34m,\u001b[0m \u001b[0mself\u001b[0m\u001b[0;34m.\u001b[0m\u001b[0mweight\u001b[0m\u001b[0;34m,\u001b[0m \u001b[0mself\u001b[0m\u001b[0;34m.\u001b[0m\u001b[0mbias\u001b[0m\u001b[0;34m)\u001b[0m\u001b[0;34m\u001b[0m\u001b[0;34m\u001b[0m\u001b[0m\n\u001b[0m\u001b[1;32m     97\u001b[0m \u001b[0;34m\u001b[0m\u001b[0m\n\u001b[1;32m     98\u001b[0m     \u001b[0;32mdef\u001b[0m \u001b[0mextra_repr\u001b[0m\u001b[0;34m(\u001b[0m\u001b[0mself\u001b[0m\u001b[0;34m)\u001b[0m \u001b[0;34m->\u001b[0m \u001b[0mstr\u001b[0m\u001b[0;34m:\u001b[0m\u001b[0;34m\u001b[0m\u001b[0;34m\u001b[0m\u001b[0m\n",
            "\u001b[0;32m/usr/local/lib/python3.7/dist-packages/torch/nn/functional.py\u001b[0m in \u001b[0;36mlinear\u001b[0;34m(input, weight, bias)\u001b[0m\n\u001b[1;32m   1845\u001b[0m     \u001b[0;32mif\u001b[0m \u001b[0mhas_torch_function_variadic\u001b[0m\u001b[0;34m(\u001b[0m\u001b[0minput\u001b[0m\u001b[0;34m,\u001b[0m \u001b[0mweight\u001b[0m\u001b[0;34m)\u001b[0m\u001b[0;34m:\u001b[0m\u001b[0;34m\u001b[0m\u001b[0;34m\u001b[0m\u001b[0m\n\u001b[1;32m   1846\u001b[0m         \u001b[0;32mreturn\u001b[0m \u001b[0mhandle_torch_function\u001b[0m\u001b[0;34m(\u001b[0m\u001b[0mlinear\u001b[0m\u001b[0;34m,\u001b[0m \u001b[0;34m(\u001b[0m\u001b[0minput\u001b[0m\u001b[0;34m,\u001b[0m \u001b[0mweight\u001b[0m\u001b[0;34m)\u001b[0m\u001b[0;34m,\u001b[0m \u001b[0minput\u001b[0m\u001b[0;34m,\u001b[0m \u001b[0mweight\u001b[0m\u001b[0;34m,\u001b[0m \u001b[0mbias\u001b[0m\u001b[0;34m=\u001b[0m\u001b[0mbias\u001b[0m\u001b[0;34m)\u001b[0m\u001b[0;34m\u001b[0m\u001b[0;34m\u001b[0m\u001b[0m\n\u001b[0;32m-> 1847\u001b[0;31m     \u001b[0;32mreturn\u001b[0m \u001b[0mtorch\u001b[0m\u001b[0;34m.\u001b[0m\u001b[0m_C\u001b[0m\u001b[0;34m.\u001b[0m\u001b[0m_nn\u001b[0m\u001b[0;34m.\u001b[0m\u001b[0mlinear\u001b[0m\u001b[0;34m(\u001b[0m\u001b[0minput\u001b[0m\u001b[0;34m,\u001b[0m \u001b[0mweight\u001b[0m\u001b[0;34m,\u001b[0m \u001b[0mbias\u001b[0m\u001b[0;34m)\u001b[0m\u001b[0;34m\u001b[0m\u001b[0;34m\u001b[0m\u001b[0m\n\u001b[0m\u001b[1;32m   1848\u001b[0m \u001b[0;34m\u001b[0m\u001b[0m\n\u001b[1;32m   1849\u001b[0m \u001b[0;34m\u001b[0m\u001b[0m\n",
            "\u001b[0;31mKeyboardInterrupt\u001b[0m: "
          ]
        }
      ]
    },
    {
      "cell_type": "code",
      "metadata": {
        "id": "I7p2-QHTUmPD"
      },
      "source": [
        "states = torch.as_tensor((args.env.reset(),), dtype=torch.float32, device=0).detach_()\n",
        "\n",
        "a = args.agent.act(states)[0].detach().cpu().numpy()\n"
      ],
      "execution_count": 85,
      "outputs": []
    },
    {
      "cell_type": "code",
      "metadata": {
        "id": "scQbmO_3U9ql",
        "outputId": "ea7bbfac-322c-4fe8-a1a5-cbe4bef69573",
        "colab": {
          "base_uri": "https://localhost:8080/"
        }
      },
      "source": [
        "args.env.stocks\n"
      ],
      "execution_count": 111,
      "outputs": [
        {
          "output_type": "execute_result",
          "data": {
            "text/plain": [
              "array([2.8378e+04, 2.4199e+04, 8.2000e+01, 0.0000e+00, 2.0430e+03,\n",
              "       3.3770e+03, 0.0000e+00, 0.0000e+00, 3.4400e+03, 0.0000e+00,\n",
              "       2.5000e+01, 0.0000e+00, 6.0000e+00, 6.7920e+03, 0.0000e+00,\n",
              "       0.0000e+00, 9.0000e+00, 0.0000e+00, 0.0000e+00, 0.0000e+00,\n",
              "       0.0000e+00, 0.0000e+00, 0.0000e+00, 0.0000e+00, 0.0000e+00,\n",
              "       0.0000e+00, 7.9000e+01, 0.0000e+00, 0.0000e+00, 0.0000e+00,\n",
              "       0.0000e+00, 0.0000e+00, 0.0000e+00, 0.0000e+00, 0.0000e+00,\n",
              "       0.0000e+00, 0.0000e+00, 0.0000e+00, 0.0000e+00, 0.0000e+00,\n",
              "       0.0000e+00, 0.0000e+00, 0.0000e+00, 0.0000e+00, 0.0000e+00,\n",
              "       0.0000e+00, 0.0000e+00, 0.0000e+00, 0.0000e+00, 0.0000e+00,\n",
              "       0.0000e+00, 0.0000e+00, 0.0000e+00, 0.0000e+00, 0.0000e+00,\n",
              "       0.0000e+00, 0.0000e+00, 0.0000e+00, 0.0000e+00, 0.0000e+00,\n",
              "       0.0000e+00, 0.0000e+00, 0.0000e+00, 0.0000e+00, 0.0000e+00,\n",
              "       0.0000e+00, 0.0000e+00, 0.0000e+00, 0.0000e+00, 0.0000e+00,\n",
              "       0.0000e+00, 0.0000e+00, 0.0000e+00, 0.0000e+00])"
            ]
          },
          "metadata": {
            "tags": []
          },
          "execution_count": 111
        }
      ]
    },
    {
      "cell_type": "code",
      "metadata": {
        "id": "PRYTC2Id1hk3",
        "outputId": "a9396cab-87c1-4659-9be8-0df1dd36c506",
        "colab": {
          "base_uri": "https://localhost:8080/"
        }
      },
      "source": [
        "from google.colab import drive\n",
        "drive.mount('/content/drive')"
      ],
      "execution_count": 10,
      "outputs": [
        {
          "output_type": "stream",
          "text": [
            "Mounted at /content/drive\n"
          ],
          "name": "stdout"
        }
      ]
    },
    {
      "cell_type": "code",
      "metadata": {
        "id": "-mtLLad2882G"
      },
      "source": [
        "!cp -R /content/AgentPPO/ /content/drive/MyDrive/trading/"
      ],
      "execution_count": 12,
      "outputs": []
    },
    {
      "cell_type": "markdown",
      "metadata": {
        "id": "JPXOxLSqh5cP"
      },
      "source": [
        "Understanding the above results::\n",
        "*   **Step**: the total training steps.\n",
        "*  **MaxR**: the maximum reward.\n",
        "*   **avgR**: the average of the rewards.\n",
        "*   **stdR**: the standard deviation of the rewards.\n",
        "*   **objA**: the objective function value of Actor Network (Policy Network).\n",
        "*   **objC**: the objective function value (Q-value)  of Critic Network (Value Network)."
      ]
    },
    {
      "cell_type": "markdown",
      "metadata": {
        "id": "v6jvgYPnHMpf"
      },
      "source": [
        "# **Part 7: Backtest and Draw the Graph**"
      ]
    },
    {
      "cell_type": "code",
      "metadata": {
        "colab": {
          "base_uri": "https://localhost:8080/"
        },
        "id": "3jCdezgzQUhh",
        "outputId": "cd563fa3-a34f-417f-fb27-1f448c67b6d2"
      },
      "source": [
        "args = Arguments(if_on_policy=True)\n",
        "args.agent = AgentPPO()\n",
        "args.env  = StockTradingEnv('./', gamma, max_stock, initial_capital, buy_cost_pct, \n",
        "                           sell_cost_pct, start_date, start_eval_date, \n",
        "                           end_eval_date, tickers, tech_indicator_list, \n",
        "                           initial_stocks, if_eval=True)\n",
        "\n",
        "args.if_remove = False\n",
        "args.cwd = './drive/MyDrive/trading/AgentPPO/StockTradingEnv-v1_0'\n",
        "args.init_before_training()\n",
        "\n",
        "args.env.draw_cumulative_return(args, torch)"
      ],
      "execution_count": 99,
      "outputs": [
        {
          "output_type": "stream",
          "text": [
            "| GPU id: 0, cwd: ./drive/MyDrive/trading/AgentPPO/StockTradingEnv-v1_0\n",
            "Loaded act: ./drive/MyDrive/trading/AgentPPO/StockTradingEnv-v1_0\n"
          ],
          "name": "stdout"
        },
        {
          "output_type": "execute_result",
          "data": {
            "text/plain": [
              "[0.9929761097189177,\n",
              " 1.0026411781482665,\n",
              " 1.0071410167680068,\n",
              " 1.010003536369691,\n",
              " 1.011890564347327,\n",
              " 1.0136561607108614,\n",
              " 1.0119165341100123,\n",
              " 1.0070209751501238,\n",
              " 1.0189182925624132,\n",
              " 1.0181976335784508,\n",
              " 1.0236214142680304,\n",
              " 1.0288889979936398,\n",
              " 1.0145929949956287,\n",
              " 1.01622519805538,\n",
              " 1.0216623690418658,\n",
              " 1.0325092740339217,\n",
              " 1.0214611593670149,\n",
              " 1.0118350494427943,\n",
              " 1.0351606532099928,\n",
              " 1.0524786547091747,\n",
              " 1.0328398074125158,\n",
              " 1.0404783231326808,\n",
              " 1.0500750964144865,\n",
              " 1.0448410347643504,\n",
              " 1.0307317854805165,\n",
              " 1.029391562709795,\n",
              " 1.0316871298815955,\n",
              " 1.0517199947730347,\n",
              " 1.053625478811574,\n",
              " 1.0510397113181238,\n",
              " 1.0536833451263765,\n",
              " 1.0569073023559163,\n",
              " 1.0584332633713551,\n",
              " 1.0522656262053645,\n",
              " 1.0620798142012704,\n",
              " 1.0638113402130454,\n",
              " 1.0652391095789384,\n",
              " 1.0663944435470765,\n",
              " 1.0665524783949358,\n",
              " 1.0793895529451523,\n",
              " 1.076484688653107,\n",
              " 1.074588251173291,\n",
              " 1.0643903624434277,\n",
              " 1.0507415918791285,\n",
              " 1.0448476835795963,\n",
              " 1.0673408301947465,\n",
              " 1.0706132751257134,\n",
              " 1.0793548416506922,\n",
              " 1.0792995506899947,\n",
              " 1.0868685897658308,\n",
              " 1.095386679648756,\n",
              " 1.101141912658874,\n",
              " 1.106299733016417,\n",
              " 1.1024271186070413,\n",
              " 1.0763620446534148,\n",
              " 1.0807079913862472,\n",
              " 1.0917601447643894,\n",
              " 1.082620039295819,\n",
              " 1.0863808478149073,\n",
              " 1.0952295212707344,\n",
              " 1.1089708771664972,\n",
              " 1.1109669580696877,\n",
              " 1.115759823336722,\n",
              " 1.1120728738111523,\n",
              " 1.1217404789836,\n",
              " 1.123973461575656,\n",
              " 1.1170015108199438,\n",
              " 1.125289548606481,\n",
              " 1.1229328988230718,\n",
              " 1.1254079685621088,\n",
              " 1.126730024854473,\n",
              " 1.1292918573852582,\n",
              " 1.12502317899778,\n",
              " 1.123394281040149,\n",
              " 1.1299599745121551,\n",
              " 1.1482812830041607,\n",
              " 1.1406245428891288,\n",
              " 1.1370164872322692,\n",
              " 1.153216738716625,\n",
              " 1.1511971359885345,\n",
              " 1.1529124376555573,\n",
              " 1.143568998906802,\n",
              " 1.139902659936274,\n",
              " 1.1614015152285186,\n",
              " 1.1567902413841493,\n",
              " 1.1342533832490234,\n",
              " 1.133439432352186,\n",
              " 1.1268991873942829,\n",
              " 1.125153537476486,\n",
              " 1.0873457561621906,\n",
              " 1.0999724007293057,\n",
              " 1.1143647806595771,\n",
              " 1.1288838085508706,\n",
              " 1.115046442527405,\n",
              " 1.103267352015713,\n",
              " 1.1109455791556249,\n",
              " 1.1113225924633303,\n",
              " 1.0893093999591787,\n",
              " 1.0915539388253523,\n",
              " 1.0914441793183869,\n",
              " 1.0820968601635212,\n",
              " 1.0860841415387343,\n",
              " 1.0687903336959583,\n",
              " 1.0433331861718607,\n",
              " 1.0683766322102817,\n",
              " 1.0757284380437462,\n",
              " 1.0837837286856715,\n",
              " 1.1033554314427683,\n",
              " 1.1206923368905237,\n",
              " 1.120609620532212,\n",
              " 1.1180028447903572,\n",
              " 1.1219402098569184,\n",
              " 1.1198135774199918,\n",
              " 1.1238053994495192,\n",
              " 1.1366278674561379,\n",
              " 1.1481096377766602,\n",
              " 1.1615067688310754,\n",
              " 1.1598292596167974,\n",
              " 1.15796167614182,\n",
              " 1.138846502198337,\n",
              " 1.1447722105224714,\n",
              " 1.151812726702769,\n",
              " 1.1521501560070477,\n",
              " 1.1690077598698074,\n",
              " 1.1719200413361195,\n",
              " 1.1790193389120636,\n",
              " 1.1757413378573227,\n",
              " 1.1727448535089653,\n",
              " 1.1836735288896838,\n",
              " 1.194378970877687,\n",
              " 1.190089936767807,\n",
              " 1.1962316350599176,\n",
              " 1.1998429070135832,\n",
              " 1.1931826204377969,\n",
              " 1.1908424923038867,\n",
              " 1.1916218709058857,\n",
              " 1.1811253183218415,\n",
              " 1.1907699576678767,\n",
              " 1.1964239217312649,\n",
              " 1.201122413977254,\n",
              " 1.1879862238240857,\n",
              " 1.1829521208522038,\n",
              " 1.17168400453379,\n",
              " 1.1675424528838096,\n",
              " 1.1497046314098582,\n",
              " 1.144824845045951,\n",
              " 1.1274169494024284,\n",
              " 1.0886998209785899,\n",
              " 1.1048424802862862,\n",
              " 1.1064884095586967,\n",
              " 1.132275827906547,\n",
              " 1.1192884020986797,\n",
              " 1.1054425339316767,\n",
              " 1.1286050216426164,\n",
              " 1.0947430534830112,\n",
              " 1.0995461004723472,\n",
              " 1.1137471976174291,\n",
              " 1.1270844623069272,\n",
              " 1.1175636909294768,\n",
              " 1.1307684117573251,\n",
              " 1.1258909381926816,\n",
              " 1.0938558382021493,\n",
              " 1.1055761202904903,\n",
              " 1.103183253383384,\n",
              " 1.1036596205319182,\n",
              " 1.116250955333979,\n",
              " 1.1114530744972555,\n",
              " 1.1078797648847616,\n",
              " 1.118443635757895,\n",
              " 1.1384020045742158,\n",
              " 1.1386449141356263,\n",
              " 1.132830583119612,\n",
              " 1.1284367046838395,\n",
              " 1.1333282249324927,\n",
              " 1.13672400113906,\n",
              " 1.1351578074552924,\n",
              " 1.1276673881100234,\n",
              " 1.1355540992383304,\n",
              " 1.1313771683234848,\n",
              " 1.1331261928432124,\n",
              " 1.1216581525964497,\n",
              " 1.120296651300281,\n",
              " 1.1003841600813768,\n",
              " 1.113375234629318,\n",
              " 1.1081171646556054,\n",
              " 1.0964690735653202,\n",
              " 1.1029839086201263,\n",
              " 1.0939253187075788,\n",
              " 1.0782117048993727,\n",
              " 1.0877759599918633,\n",
              " 1.1024704362947555,\n",
              " 1.0969351161308303,\n",
              " 1.0789167804812836,\n",
              " 1.0892076947080802,\n",
              " 1.0931578940730602,\n",
              " 1.1046740127445855,\n",
              " 1.1058352387522505,\n",
              " 1.119752251559045,\n",
              " 1.115408698708589,\n",
              " 1.1173114181990933,\n",
              " 1.105414602729883,\n",
              " 1.1172237403265013,\n",
              " 1.1199162170574373,\n",
              " 1.1191073164801943,\n",
              " 1.13464172116481,\n",
              " 1.1327224607193038,\n",
              " 1.1414759850728637,\n",
              " 1.1381917328962394,\n",
              " 1.146684192793333,\n",
              " 1.1437055776185863,\n",
              " 1.151653398386206,\n",
              " 1.156402104245594,\n",
              " 1.158252945988338,\n",
              " 1.1543704548836085,\n",
              " 1.1554496479477694,\n",
              " 1.1582913330505762,\n",
              " 1.153125489325971,\n",
              " 1.1555387312609824,\n",
              " 1.1498160627733869,\n",
              " 1.1494433738983616,\n",
              " 1.153699017210189,\n",
              " 1.1574011949165544,\n",
              " 1.160191079493613,\n",
              " 1.154338685747811,\n",
              " 1.1482572901249866,\n",
              " 1.1552025220644955,\n",
              " 1.1721861599732808,\n",
              " 1.1730399110951788,\n",
              " 1.181982613934097,\n",
              " 1.174308274922497,\n",
              " 1.1591602737422637,\n",
              " 1.1521596118424353,\n",
              " 1.1533835807349697,\n",
              " 1.1501844117713294,\n",
              " 1.1614900386821438,\n",
              " 1.1576611396538448,\n",
              " 1.1539462125932738,\n",
              " 1.1586169782758013,\n",
              " 1.1683147347828922,\n",
              " 1.1755603294608494,\n",
              " 1.1846547194982284,\n",
              " 1.186465452127863,\n",
              " 1.1856553314428282,\n",
              " 1.1918896266497045,\n",
              " 1.1942900111196932,\n",
              " 1.1964519880715798,\n",
              " 1.1969695531635947,\n",
              " 1.2152587913539552,\n",
              " 1.215122239669875,\n",
              " 1.2056203954076021,\n",
              " 1.208083499595857,\n",
              " 1.2273185916020037,\n",
              " 1.2139578166709075,\n",
              " 1.2204100864514718,\n",
              " 1.2210756398075657,\n",
              " 1.224239132201594,\n",
              " 1.2339898630090178,\n",
              " 1.2278074996053105,\n",
              " 1.23797135273332,\n",
              " 1.2340850005279833,\n",
              " 1.2320557141595696,\n",
              " 1.241737060989079,\n",
              " 1.241890439349606,\n",
              " 1.244218652127042,\n",
              " 1.2443821620155626,\n",
              " 1.246407332450729,\n",
              " 1.2321412684268276,\n",
              " 1.212044733986373,\n",
              " 1.2270088309446772,\n",
              " 1.2224535971145232,\n",
              " 1.22727807321223,\n",
              " 1.2414885373873854,\n",
              " 1.250279421750422,\n",
              " 1.2799130368572926,\n",
              " 1.290421485492308,\n",
              " 1.2979473806299575,\n",
              " 1.2963784146759536,\n",
              " 1.3160458495615095,\n",
              " 1.321229261293878,\n",
              " 1.3319630205937356,\n",
              " 1.329200101943319,\n",
              " 1.3267310748267325,\n",
              " 1.3302560820706284,\n",
              " 1.3423391724775404,\n",
              " 1.3306115041037374,\n",
              " 1.3059942231837538,\n",
              " 1.2565216476579457,\n",
              " 1.2254956887832547,\n",
              " 1.2283152575017826,\n",
              " 1.1760532143977818,\n",
              " 1.1812396918440329,\n",
              " 1.2285679588143334,\n",
              " 1.1928289783720678,\n",
              " 1.2373759092420547,\n",
              " 1.202687503386248,\n",
              " 1.1847069601894462,\n",
              " 1.112828309728285,\n",
              " 1.1717705742705078,\n",
              " 1.1210391950024856,\n",
              " 1.023227693977997,\n",
              " 1.1217724952298362,\n",
              " 1.0171052587168166,\n",
              " 1.0911294610078806,\n",
              " 1.0598620520678086,\n",
              " 1.075926137978145,\n",
              " 1.0423344970553634,\n",
              " 1.0538571641535188,\n",
              " 1.1047087742333537,\n",
              " 1.093521470750652,\n",
              " 1.1458900184538063,\n",
              " 1.1090292956186867,\n",
              " 1.1521883924863625,\n",
              " 1.140069737481756,\n",
              " 1.1017895196193448,\n",
              " 1.1165536308716908,\n",
              " 1.1024249370851982,\n",
              " 1.1738979403165497,\n",
              " 1.168713161754566,\n",
              " 1.196365684750804,\n",
              " 1.1965774120637094,\n",
              " 1.2241030592939892,\n",
              " 1.2810744481977865,\n",
              " 1.2703495771515272,\n",
              " 1.3112904331092659,\n",
              " 1.315369562345727,\n",
              " 1.3120822058442145,\n",
              " 1.271367455938043,\n",
              " 1.2921156978278134,\n",
              " 1.2924460072625723,\n",
              " 1.3093481605041397,\n",
              " 1.3135740424524855,\n",
              " 1.2856823011070178,\n",
              " 1.3177262700456454,\n",
              " 1.3350985354527631,\n",
              " 1.269604755399964,\n",
              " 1.2837693458388033,\n",
              " 1.2926897624050158,\n",
              " 1.3055232113817619,\n",
              " 1.318693105082132,\n",
              " 1.3290933232060222,\n",
              " 1.3432494578345315,\n",
              " 1.3141237164571513,\n",
              " 1.3058842281496512,\n",
              " 1.3195877761482668,\n",
              " 1.3286772664489752,\n",
              " 1.3457039826572368,\n",
              " 1.347816309716413,\n",
              " 1.3726971493638556,\n",
              " 1.3536438225299012,\n",
              " 1.3526473033519453,\n",
              " 1.3481488933394297,\n",
              " 1.3545357251869006,\n",
              " 1.3596590079995108,\n",
              " 1.3816192339255304,\n",
              " 1.3885203875405059,\n",
              " 1.3909238377243769,\n",
              " 1.3956530488867982,\n",
              " 1.385933662494105,\n",
              " 1.408642436133774,\n",
              " 1.4240721547976223,\n",
              " 1.4344687087370362,\n",
              " 1.4525174853037717,\n",
              " 1.3883459854871718,\n",
              " 1.398798668246115,\n",
              " 1.407496040613542,\n",
              " 1.4350034943377599,\n",
              " 1.4412321793654537,\n",
              " 1.4448092188011346,\n",
              " 1.456215315410853,\n",
              " 1.4717002130634813,\n",
              " 1.4862392916502287,\n",
              " 1.4617099318521753,\n",
              " 1.4751547976933994,\n",
              " 1.4467811407978246,\n",
              " 1.4503680105956518,\n",
              " 1.4828209820605167,\n",
              " 1.5108849555207773,\n",
              " 1.5196504724528235,\n",
              " 1.5723581135946185,\n",
              " 1.5533831053253837,\n",
              " 1.5806118146134542,\n",
              " 1.6057990017052863,\n",
              " 1.6126273967404166,\n",
              " 1.5711626820966729,\n",
              " 1.5709092008417995,\n",
              " 1.5593949934150746,\n",
              " 1.549863851121393,\n",
              " 1.5485861627361082,\n",
              " 1.624788415740887,\n",
              " 1.603365284353754,\n",
              " 1.5990562265761243,\n",
              " 1.5556583399413861,\n",
              " 1.549370595518802,\n",
              " 1.5765461451737104,\n",
              " 1.5525014963626036,\n",
              " 1.5680812226461487,\n",
              " 1.5769528117340805,\n",
              " 1.6118488212473439,\n",
              " 1.6082846006656797,\n",
              " 1.615385871264034,\n",
              " 1.631342440966858,\n",
              " 1.6447543137033922,\n",
              " 1.6296215870371618,\n",
              " 1.6211850822100702,\n",
              " 1.592237638736537,\n",
              " 1.6284136494343489,\n",
              " 1.628798523942891,\n",
              " 1.6243947842561675,\n",
              " 1.6375184451378648,\n",
              " 1.6723018649574175,\n",
              " 1.6545588798365845,\n",
              " 1.6711282216501995,\n",
              " 1.6696308250570537,\n",
              " 1.6835791398064721,\n",
              " 1.6997159495467482,\n",
              " 1.7463407008197835,\n",
              " 1.7252260868155813,\n",
              " 1.7329902697772144,\n",
              " 1.7486789447365974,\n",
              " 1.7692873143957655,\n",
              " 1.7916061207351912,\n",
              " 1.7094915651475866,\n",
              " 1.6799810766779841,\n",
              " 1.6081838568286322,\n",
              " 1.656286498414545,\n",
              " 1.619119818106197,\n",
              " 1.6020514058724764,\n",
              " 1.6210782610006669,\n",
              " 1.6446176230196903,\n",
              " 1.6124715665810039,\n",
              " 1.5883205907813716,\n",
              " 1.5637032017505708,\n",
              " 1.566199766236689,\n",
              " 1.618819532589761,\n",
              " 1.5691476933838082,\n",
              " 1.5757836395813656,\n",
              " 1.6117947774221426,\n",
              " 1.647118164439434,\n",
              " 1.6356625492144259,\n",
              " 1.6430009415843805,\n",
              " 1.6709656963423336,\n",
              " 1.6228259611628861,\n",
              " 1.658312209403796,\n",
              " 1.622694189521358,\n",
              " 1.6634426777246367,\n",
              " 1.6660170240824903,\n",
              " 1.7060654793012513,\n",
              " 1.7623253677517272,\n",
              " 1.7624128873191942,\n",
              " 1.7355470326829021,\n",
              " 1.722392262913611,\n",
              " 1.706060054454898,\n",
              " 1.6751138890853587,\n",
              " 1.679536718053485,\n",
              " 1.6686102743889175,\n",
              " 1.660140247486353,\n",
              " 1.669508165612959,\n",
              " 1.653112913103529,\n",
              " 1.675607662075431,\n",
              " 1.6112029440599451,\n",
              " 1.63832386300236,\n",
              " 1.5802577787154632,\n",
              " 1.5749299811258821,\n",
              " 1.602728577280298,\n",
              " 1.7068149614012476,\n",
              " 1.7354854172394096,\n",
              " 1.7357297206581395,\n",
              " 1.6640120973978083,\n",
              " 1.625076870845062,\n",
              " 1.6682709724508442,\n",
              " 1.6521504604162316,\n",
              " 1.669980845410413,\n",
              " 1.6757836626244165,\n",
              " 1.6752048836433724,\n",
              " 1.6553107403745546,\n",
              " 1.668493425901237,\n",
              " 1.6599663087650918,\n",
              " 1.6609802646733904,\n",
              " 1.6777146530935678,\n",
              " 1.6950956291436559,\n",
              " 1.7049290956148941,\n",
              " 1.7007972700773437,\n",
              " 1.7236391088272442,\n",
              " 1.7222495991072695,\n",
              " 1.7196160504938032,\n",
              " 1.7224312561686448,\n",
              " 1.7236967396149099,\n",
              " 1.731431605239631,\n",
              " 1.6983131846683885,\n",
              " 1.6964874709683975,\n",
              " 1.6978915988152716,\n",
              " 1.7274436443107108,\n",
              " 1.7403843855511345,\n",
              " 1.7631875824061565,\n",
              " 1.768613988644149,\n",
              " 1.7636967071322436,\n",
              " 1.7602015461960425,\n",
              " 1.7656086546531995,\n",
              " 1.7531045266694567,\n",
              " 1.7546096840748233,\n",
              " 1.7851477388323653,\n",
              " 1.7915035004032487,\n",
              " 1.7833282376432515,\n",
              " 1.7804140874042456]"
            ]
          },
          "metadata": {
            "tags": []
          },
          "execution_count": 99
        }
      ]
    },
    {
      "cell_type": "code",
      "metadata": {
        "id": "3KcNwEMLC5BT",
        "outputId": "a158b6d2-0889-438c-a58e-f9acf78c003d",
        "colab": {
          "base_uri": "https://localhost:8080/"
        }
      },
      "source": [
        ""
      ],
      "execution_count": 38,
      "outputs": [
        {
          "output_type": "execute_result",
          "data": {
            "text/plain": [
              "(1259, 74)"
            ]
          },
          "metadata": {
            "tags": []
          },
          "execution_count": 38
        }
      ]
    },
    {
      "cell_type": "code",
      "metadata": {
        "id": "2LlR26zj9Rhf",
        "outputId": "502378be-ca46-4930-d03d-97d491b1b979",
        "colab": {
          "base_uri": "https://localhost:8080/",
          "height": 231
        }
      },
      "source": [
        "# Agent\n",
        "args = Arguments(if_on_policy=True)\n",
        "args.agent = AgentSAC() # AgentSAC(), AgentTD3(), AgentDDPG()\n",
        "\n",
        "# Environment\n",
        "tickers = [\n",
        "  'AAPL', 'ADBE', 'ADI', 'ADP', 'ADSK', 'ALGN', 'ALXN', 'AMAT', 'AMD', 'AMGN',\n",
        "  'AMZN', 'ASML', 'ATVI', 'BIIB', 'BKNG', 'BMRN', 'CDNS', 'CERN', 'CHKP', 'CMCSA',\n",
        "  'COST', 'CSCO', 'CSX', 'CTAS', 'CTSH', 'CTXS', 'DLTR', 'EA', 'EBAY', 'FAST',\n",
        "  'FISV', 'GILD', 'HAS', 'HSIC', 'IDXX', 'ILMN', 'INCY', 'INTC', 'INTU', 'ISRG',\n",
        "  'JBHT', 'KLAC', 'LRCX', 'MAR', 'MCHP', 'MDLZ', 'MNST', 'MSFT', 'MU', 'MXIM',\n",
        "  'NLOK', 'NTAP', 'NTES', 'NVDA', 'ORLY', 'PAYX', 'PCAR', 'PEP', 'QCOM', 'REGN',\n",
        "  'ROST', 'SBUX', 'SIRI', 'SNPS', 'SWKS', 'TTWO', 'TXN', 'VRSN', 'VRTX', 'WBA',\n",
        "  'WDC', 'WLTW', 'XEL', 'XLNX']  # finrl.config.NAS_74_TICKER\n",
        "\n",
        "tech_indicator_list = [\n",
        "  'macd', 'boll_ub', 'boll_lb', 'rsi_30', 'cci_30', 'dx_30',\n",
        "  'close_30_sma', 'close_60_sma']  # finrl.config.TECHNICAL_INDICATORS_LIST\n",
        "\n",
        "gamma = 0.99\n",
        "max_stock = 1e2\n",
        "initial_capital = 1e6\n",
        "initial_stocks = np.zeros(len(tickers), dtype=np.float32)\n",
        "buy_cost_pct = 1e-3\n",
        "sell_cost_pct = 1e-3\n",
        "start_date = '2019-01-01'\n",
        "start_eval_date = '2021-01-01'\n",
        "end_eval_date = '2021-07-23'\n",
        "\n",
        "args.env = StockTradingEnv('./validation', gamma, max_stock, initial_capital, buy_cost_pct, \n",
        "                           sell_cost_pct, start_date, start_eval_date, \n",
        "                           end_eval_date, tickers, tech_indicator_list, \n",
        "                           initial_stocks, if_eval=True)\n",
        "\n",
        "args.if_remove = False\n",
        "args.cwd = './AgentPPO/StockTradingEnv-v1_0'\n",
        "args.init_before_training()\n",
        "\n",
        "args.env.draw_cumulative_return(args, torch)\n"
      ],
      "execution_count": 101,
      "outputs": [
        {
          "output_type": "error",
          "ename": "NameError",
          "evalue": "ignored",
          "traceback": [
            "\u001b[0;31m---------------------------------------------------------------------------\u001b[0m",
            "\u001b[0;31mNameError\u001b[0m                                 Traceback (most recent call last)",
            "\u001b[0;32m<ipython-input-101-b0ccb44d02a7>\u001b[0m in \u001b[0;36m<module>\u001b[0;34m()\u001b[0m\n\u001b[1;32m      1\u001b[0m \u001b[0;31m# Agent\u001b[0m\u001b[0;34m\u001b[0m\u001b[0;34m\u001b[0m\u001b[0;34m\u001b[0m\u001b[0m\n\u001b[1;32m      2\u001b[0m \u001b[0margs\u001b[0m \u001b[0;34m=\u001b[0m \u001b[0mArguments\u001b[0m\u001b[0;34m(\u001b[0m\u001b[0mif_on_policy\u001b[0m\u001b[0;34m=\u001b[0m\u001b[0;32mTrue\u001b[0m\u001b[0;34m)\u001b[0m\u001b[0;34m\u001b[0m\u001b[0;34m\u001b[0m\u001b[0m\n\u001b[0;32m----> 3\u001b[0;31m \u001b[0margs\u001b[0m\u001b[0;34m.\u001b[0m\u001b[0magent\u001b[0m \u001b[0;34m=\u001b[0m \u001b[0mAgentSAC\u001b[0m\u001b[0;34m(\u001b[0m\u001b[0;34m)\u001b[0m \u001b[0;31m# AgentSAC(), AgentTD3(), AgentDDPG()\u001b[0m\u001b[0;34m\u001b[0m\u001b[0;34m\u001b[0m\u001b[0m\n\u001b[0m\u001b[1;32m      4\u001b[0m \u001b[0;34m\u001b[0m\u001b[0m\n\u001b[1;32m      5\u001b[0m \u001b[0;31m# Environment\u001b[0m\u001b[0;34m\u001b[0m\u001b[0;34m\u001b[0m\u001b[0;34m\u001b[0m\u001b[0m\n",
            "\u001b[0;31mNameError\u001b[0m: name 'AgentSAC' is not defined"
          ]
        }
      ]
    },
    {
      "cell_type": "code",
      "metadata": {
        "id": "KeeEuAvm-Nrk",
        "outputId": "b8cca47b-958f-4d1b-f4a1-bbaf510d5c9b",
        "colab": {
          "base_uri": "https://localhost:8080/",
          "height": 163
        }
      },
      "source": [
        "args.env"
      ],
      "execution_count": 47,
      "outputs": [
        {
          "output_type": "error",
          "ename": "AttributeError",
          "evalue": "ignored",
          "traceback": [
            "\u001b[0;31m---------------------------------------------------------------------------\u001b[0m",
            "\u001b[0;31mAttributeError\u001b[0m                            Traceback (most recent call last)",
            "\u001b[0;32m<ipython-input-47-9a7ae2bf3ab3>\u001b[0m in \u001b[0;36m<module>\u001b[0;34m()\u001b[0m\n\u001b[0;32m----> 1\u001b[0;31m \u001b[0margs\u001b[0m\u001b[0;34m.\u001b[0m\u001b[0menv\u001b[0m\u001b[0;34m.\u001b[0m\u001b[0mdf\u001b[0m\u001b[0;34m\u001b[0m\u001b[0;34m\u001b[0m\u001b[0m\n\u001b[0m",
            "\u001b[0;31mAttributeError\u001b[0m: 'NoneType' object has no attribute 'df'"
          ]
        }
      ]
    },
    {
      "cell_type": "code",
      "metadata": {
        "id": "RiGvrJ1r_nED"
      },
      "source": [
        "!rm -rf /content/drive/MyDrive/trading/AgentPPO/ \n",
        "!cp -R ./AgentPPO /content/drive/MyDrive/trading/"
      ],
      "execution_count": 100,
      "outputs": []
    },
    {
      "cell_type": "code",
      "metadata": {
        "id": "4aApi2bfBxiq",
        "outputId": "aa3a6e68-6c3c-4045-9f87-1c176f5eda5e",
        "colab": {
          "base_uri": "https://localhost:8080/"
        }
      },
      "source": [
        "!lscpu"
      ],
      "execution_count": 51,
      "outputs": [
        {
          "output_type": "stream",
          "text": [
            "Architecture:        x86_64\n",
            "CPU op-mode(s):      32-bit, 64-bit\n",
            "Byte Order:          Little Endian\n",
            "CPU(s):              2\n",
            "On-line CPU(s) list: 0,1\n",
            "Thread(s) per core:  2\n",
            "Core(s) per socket:  1\n",
            "Socket(s):           1\n",
            "NUMA node(s):        1\n",
            "Vendor ID:           GenuineIntel\n",
            "CPU family:          6\n",
            "Model:               79\n",
            "Model name:          Intel(R) Xeon(R) CPU @ 2.20GHz\n",
            "Stepping:            0\n",
            "CPU MHz:             2199.998\n",
            "BogoMIPS:            4399.99\n",
            "Hypervisor vendor:   KVM\n",
            "Virtualization type: full\n",
            "L1d cache:           32K\n",
            "L1i cache:           32K\n",
            "L2 cache:            256K\n",
            "L3 cache:            56320K\n",
            "NUMA node0 CPU(s):   0,1\n",
            "Flags:               fpu vme de pse tsc msr pae mce cx8 apic sep mtrr pge mca cmov pat pse36 clflush mmx fxsr sse sse2 ss ht syscall nx pdpe1gb rdtscp lm constant_tsc rep_good nopl xtopology nonstop_tsc cpuid tsc_known_freq pni pclmulqdq ssse3 fma cx16 pcid sse4_1 sse4_2 x2apic movbe popcnt aes xsave avx f16c rdrand hypervisor lahf_lm abm 3dnowprefetch invpcid_single ssbd ibrs ibpb stibp fsgsbase tsc_adjust bmi1 hle avx2 smep bmi2 erms invpcid rtm rdseed adx smap xsaveopt arat md_clear arch_capabilities\n"
          ],
          "name": "stdout"
        }
      ]
    },
    {
      "cell_type": "code",
      "metadata": {
        "id": "k_ykjGpeGoMi"
      },
      "source": [
        ""
      ],
      "execution_count": null,
      "outputs": []
    }
  ]
}